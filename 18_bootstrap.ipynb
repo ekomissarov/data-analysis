{
  "nbformat": 4,
  "nbformat_minor": 0,
  "metadata": {
    "colab": {
      "provenance": [],
      "toc_visible": true,
      "authorship_tag": "ABX9TyNGaPscNAPKQndz66WPUkGt",
      "include_colab_link": true
    },
    "kernelspec": {
      "name": "python3",
      "display_name": "Python 3"
    },
    "language_info": {
      "name": "python"
    }
  },
  "cells": [
    {
      "cell_type": "markdown",
      "metadata": {
        "id": "view-in-github",
        "colab_type": "text"
      },
      "source": [
        "<a href=\"https://colab.research.google.com/github/ekomissarov/data-analysis/blob/main/18_bootstrap.ipynb\" target=\"_parent\"><img src=\"https://colab.research.google.com/assets/colab-badge.svg\" alt=\"Open In Colab\"/></a>"
      ]
    },
    {
      "cell_type": "markdown",
      "source": [
        "#PART1 Coins years"
      ],
      "metadata": {
        "id": "kIJXpL9Yy0z3"
      }
    },
    {
      "cell_type": "code",
      "execution_count": 51,
      "metadata": {
        "id": "HnSoCsmBnukD"
      },
      "outputs": [],
      "source": [
        "#@title importing libraries\n",
        "from scipy import stats\n",
        "import statsmodels as sts\n",
        "\n",
        "from google.colab import drive\n",
        "import pandas as pd\n",
        "import numpy as np\n",
        "import time\n",
        "from datetime import date, datetime, timedelta\n",
        "import seaborn as sns\n",
        "from matplotlib import pyplot as plt\n",
        "import plotly.express as px\n",
        "\n",
        "\n",
        "plt.style.use('dark_background')\n",
        "\n",
        "def display_df(df=None):\n",
        "    with pd.option_context('display.max_rows', None, 'display.max_columns', None):  # more options can be specified also\n",
        "        display(df)"
      ]
    },
    {
      "cell_type": "code",
      "source": [
        "x = pd.Series([2011, 2017, 2016, 2012, 2017, 2015, 2011, 2015, 2017, 2012, 2019,\n",
        "       2019, 2012, 2018, 2018, 2018, 2018, 2017, 2018, 2012, 2010, 2012,\n",
        "       2012, 2011, 2011, 2012, 2011, 2017, 2017, 2016, 2012, 2012, 2017,\n",
        "       2017, 2012, 2010, 2018, 2016, 2011, 2017, 2012, 2017, 2013, 2017,\n",
        "       2010, 2011, 2018, 2015, 2011, 2018, 2012, 2013, 2009, 2017, 2017,\n",
        "       2018, 2019, 2018, 2011, 2013, 2011, 2013, 2017, 2018, 2011, 2012,\n",
        "       2018, 2012, 2019, 2018, 2011, 2017, 2019, 2019, 2019, 2012, 2011,\n",
        "       2013, 2011, 2017, 2013, 2013, 2017, 2017, 2017, 2011, 2019, 2013,\n",
        "       2017, 2012, 2009, 2010, 2010, 2020, 2019, 2020, 2020, 2019, 2018,\n",
        "       2020])  # год выпуска монеты из копилки\n",
        "x = x.max() - x # перешли к возрасту\n",
        "x.size"
      ],
      "metadata": {
        "colab": {
          "base_uri": "https://localhost:8080/"
        },
        "id": "ccrUmGNpn-Gd",
        "outputId": "3fbcb8cd-24e9-4ba9-8c08-70ec3f973c69"
      },
      "execution_count": 52,
      "outputs": [
        {
          "output_type": "execute_result",
          "data": {
            "text/plain": [
              "100"
            ]
          },
          "metadata": {},
          "execution_count": 52
        }
      ]
    },
    {
      "cell_type": "code",
      "source": [
        "x.values"
      ],
      "metadata": {
        "colab": {
          "base_uri": "https://localhost:8080/"
        },
        "id": "NhifHFTVrfoE",
        "outputId": "f083b6f2-7fd7-4ba7-92e9-ea79c6770971"
      },
      "execution_count": 53,
      "outputs": [
        {
          "output_type": "execute_result",
          "data": {
            "text/plain": [
              "array([ 9,  3,  4,  8,  3,  5,  9,  5,  3,  8,  1,  1,  8,  2,  2,  2,  2,\n",
              "        3,  2,  8, 10,  8,  8,  9,  9,  8,  9,  3,  3,  4,  8,  8,  3,  3,\n",
              "        8, 10,  2,  4,  9,  3,  8,  3,  7,  3, 10,  9,  2,  5,  9,  2,  8,\n",
              "        7, 11,  3,  3,  2,  1,  2,  9,  7,  9,  7,  3,  2,  9,  8,  2,  8,\n",
              "        1,  2,  9,  3,  1,  1,  1,  8,  9,  7,  9,  3,  7,  7,  3,  3,  3,\n",
              "        9,  1,  7,  3,  8, 11, 10, 10,  0,  1,  0,  0,  1,  2,  0])"
            ]
          },
          "metadata": {},
          "execution_count": 53
        }
      ]
    },
    {
      "cell_type": "code",
      "source": [
        "sns.countplot(x=x.values)"
      ],
      "metadata": {
        "colab": {
          "base_uri": "https://localhost:8080/",
          "height": 445
        },
        "id": "yfClRy8DpDiF",
        "outputId": "21732065-2b65-4ceb-e0da-af59c4dcab72"
      },
      "execution_count": 55,
      "outputs": [
        {
          "output_type": "execute_result",
          "data": {
            "text/plain": [
              "<Axes: ylabel='count'>"
            ]
          },
          "metadata": {},
          "execution_count": 55
        },
        {
          "output_type": "display_data",
          "data": {
            "text/plain": [
              "<Figure size 640x480 with 1 Axes>"
            ],
            "image/png": "[encoded data removed]"
          },
          "metadata": {}
        }
      ]
    },
    {
      "cell_type": "code",
      "source": [
        "x.mean(), np.median(x)"
      ],
      "metadata": {
        "colab": {
          "base_uri": "https://localhost:8080/"
        },
        "id": "Ez5V90YqpD1b",
        "outputId": "8f568fa0-ca69-4f15-c591-172ace1c28f8"
      },
      "execution_count": 56,
      "outputs": [
        {
          "output_type": "execute_result",
          "data": {
            "text/plain": [
              "(5.16, 4.0)"
            ]
          },
          "metadata": {},
          "execution_count": 56
        }
      ]
    },
    {
      "cell_type": "code",
      "source": [
        "#построим доверительный интервал для среднего с помощью бутстрапа\n",
        "def get_bootstrap_sample(x, B_sample=1, random_seed=None):\n",
        "    if random_seed is not None:\n",
        "        np.random.seed(random_seed) # чтобы эксперимент воспроизводился\n",
        "    N = x.size\n",
        "    sample = np.random.choice(x, size=(N, B_sample), replace=True)\n",
        "\n",
        "    if B_sample == 1:\n",
        "        sample = sample.T[0]\n",
        "    return sample\n",
        "\n",
        "x_boot = get_bootstrap_sample(x)\n",
        "x_boot.shape"
      ],
      "metadata": {
        "colab": {
          "base_uri": "https://localhost:8080/"
        },
        "id": "jDwfFvdspD4x",
        "outputId": "87774878-966a-4950-fa79-eb7572b9bfc9"
      },
      "execution_count": 59,
      "outputs": [
        {
          "output_type": "execute_result",
          "data": {
            "text/plain": [
              "(100,)"
            ]
          },
          "metadata": {},
          "execution_count": 59
        }
      ]
    },
    {
      "cell_type": "code",
      "source": [
        "_, axes = plt.subplots(1, 2, figsize=(12,4))\n",
        "\n",
        "sns.countplot(x=x.values, ax=axes[0])\n",
        "sns.countplot(x=x_boot, ax=axes[1])\n",
        "axes[0].set_title(\"Исходная выборка\")\n",
        "axes[1].set_title(\"Сбутстрапированная выборка\");"
      ],
      "metadata": {
        "colab": {
          "base_uri": "https://localhost:8080/",
          "height": 390
        },
        "id": "BlESUpbcoFlH",
        "outputId": "dd36a759-ea78-4eab-cd1a-1d7806ba4c95"
      },
      "execution_count": 60,
      "outputs": [
        {
          "output_type": "display_data",
          "data": {
            "text/plain": [
              "<Figure size 1200x400 with 2 Axes>"
            ],
            "image/png": "[encoded data removed]"
          },
          "metadata": {}
        }
      ]
    },
    {
      "cell_type": "code",
      "source": [
        "#Сгенерируем выборку из средних\n",
        "x_boot = get_bootstrap_sample(x, B_sample=10**6)\n",
        "x_boot_m = np.mean(x_boot, axis=0)\n",
        "x_boot_m.size"
      ],
      "metadata": {
        "colab": {
          "base_uri": "https://localhost:8080/"
        },
        "id": "BuqDoBuapzaX",
        "outputId": "c1693c77-018b-4ba1-982f-b222a6b51c5f"
      },
      "execution_count": 61,
      "outputs": [
        {
          "output_type": "execute_result",
          "data": {
            "text/plain": [
              "1000000"
            ]
          },
          "metadata": {},
          "execution_count": 61
        }
      ]
    },
    {
      "cell_type": "code",
      "source": [
        "plt.hist(x_boot_m, bins=20, density=True);"
      ],
      "metadata": {
        "colab": {
          "base_uri": "https://localhost:8080/",
          "height": 429
        },
        "id": "60T9MmOhtWqx",
        "outputId": "53a2cada-25d5-4c36-9b26-19230aadb5f3"
      },
      "execution_count": 62,
      "outputs": [
        {
          "output_type": "display_data",
          "data": {
            "text/plain": [
              "<Figure size 640x480 with 1 Axes>"
            ],
            "image/png": "[encoded data removed]"
          },
          "metadata": {}
        }
      ]
    },
    {
      "cell_type": "code",
      "source": [
        "#Сравним получившееся распределение с нормальным. Они оказываются похожи.\n",
        "#Это связано с тем, что мы бустрапируем среднее, в возрасте монет нет выбросов, поэтому тут хорошо работает ЦПТ.\n",
        "#строим диаграмму: квантиль-квантиль\n",
        "#диаграмма говорит о том что итоговое распределение получилось близким к нормальному\n",
        "#и здесь для среднего мы на самом деле могли использовать ЦПТ\n",
        "\n",
        "x_scale = (x_boot_m - x_boot_m.mean())/x_boot_m.std()\n",
        "stats.probplot(x_scale, dist=\"norm\", plot=plt);"
      ],
      "metadata": {
        "colab": {
          "base_uri": "https://localhost:8080/",
          "height": 471
        },
        "id": "_1Gqp3avtZsW",
        "outputId": "9db76a25-e40c-4296-ba9f-b7f12e44b8cc"
      },
      "execution_count": 63,
      "outputs": [
        {
          "output_type": "display_data",
          "data": {
            "text/plain": [
              "<Figure size 640x480 with 1 Axes>"
            ],
            "image/png": "[encoded data removed]"
          },
          "metadata": {}
        }
      ]
    },
    {
      "cell_type": "code",
      "source": [
        "#доверительный интервал Эфрона.\n",
        "alpha = 0.05\n",
        "\n",
        "left = np.quantile(x_boot_m, alpha/2)\n",
        "right = np.quantile(x_boot_m, 1-alpha/2)\n",
        "left, right\n"
      ],
      "metadata": {
        "colab": {
          "base_uri": "https://localhost:8080/"
        },
        "id": "lLFQ_SwvtlXW",
        "outputId": "18fcbbb5-e94b-4794-d249-d280895dca56"
      },
      "execution_count": 65,
      "outputs": [
        {
          "output_type": "execute_result",
          "data": {
            "text/plain": [
              "(4.52, 5.81)"
            ]
          },
          "metadata": {},
          "execution_count": 65
        }
      ]
    },
    {
      "cell_type": "code",
      "source": [
        "fig = plt.figure(figsize=(12,4))\n",
        "plt.hist(x_boot_m, bins=30, density=True)\n",
        "plt.axvline(left, color='b')\n",
        "plt.axvline(right, color='b');\n",
        "\n",
        "plt.xlabel('Возраст монеты')\n",
        "plt.ylabel('Плотность распределения');"
      ],
      "metadata": {
        "colab": {
          "base_uri": "https://localhost:8080/",
          "height": 387
        },
        "id": "WE0qiAzsGngf",
        "outputId": "7b0b576c-624f-424d-990e-59abae0fff28"
      },
      "execution_count": 66,
      "outputs": [
        {
          "output_type": "display_data",
          "data": {
            "text/plain": [
              "<Figure size 1200x400 with 1 Axes>"
            ],
            "image/png": "[encoded data removed]"
          },
          "metadata": {}
        }
      ]
    },
    {
      "cell_type": "code",
      "source": [
        "#доверительный интервал Холла\n",
        "alpha = 0.05\n",
        "\n",
        "theta_hat = np.mean(x)\n",
        "x_boot_h = x_boot_m - theta_hat  # np.mean(x_boot - theta_hat, axis=0)\n",
        "\n",
        "left = theta_hat - np.quantile(x_boot_h, 1-alpha/2)\n",
        "right = theta_hat - np.quantile(x_boot_h, alpha/2)\n",
        "left, right\n",
        "\n"
      ],
      "metadata": {
        "colab": {
          "base_uri": "https://localhost:8080/"
        },
        "id": "FuUHF-dkGsUV",
        "outputId": "f8be1e16-f897-4298-e0c3-44c4e76acf5f"
      },
      "execution_count": 67,
      "outputs": [
        {
          "output_type": "execute_result",
          "data": {
            "text/plain": [
              "(4.510000000000001, 5.800000000000001)"
            ]
          },
          "metadata": {},
          "execution_count": 67
        }
      ]
    },
    {
      "cell_type": "code",
      "source": [
        "#t-процентильный доверительный интервал\n",
        "theta_hat = np.mean(x)\n",
        "std_hat = np.std(x)\n",
        "\n",
        "x_boot_t = np.mean(x_boot - theta_hat, axis=0)\n",
        "x_boot_t = x_boot_t/np.std(x_boot, axis=0)\n",
        "\n",
        "left = theta_hat - np.quantile(x_boot_t, 1-alpha/2)*std_hat\n",
        "right = theta_hat - np.quantile(x_boot_t, alpha/2)*std_hat\n",
        "left, right\n",
        "\n"
      ],
      "metadata": {
        "colab": {
          "base_uri": "https://localhost:8080/"
        },
        "id": "uitT2elOG688",
        "outputId": "7ee239b6-9251-4f54-d904-91b63f14734e"
      },
      "execution_count": 68,
      "outputs": [
        {
          "output_type": "execute_result",
          "data": {
            "text/plain": [
              "(4.50760608395731, 5.820627340161765)"
            ]
          },
          "metadata": {},
          "execution_count": 68
        }
      ]
    },
    {
      "cell_type": "code",
      "source": [
        "#цпт\n",
        "lam_hat = np.mean(x)  # sample parameter estimation\n",
        "lam_se = np.sqrt(lam_hat/len(x))  # standard deviation estimation\n",
        "\n",
        "stats.norm.interval(0.95, loc=lam_hat, scale=lam_se)\n"
      ],
      "metadata": {
        "colab": {
          "base_uri": "https://localhost:8080/"
        },
        "id": "x2ZmghA5HESp",
        "outputId": "c069ebdd-1ca8-4273-9fe6-64dbad15f6f2"
      },
      "execution_count": 69,
      "outputs": [
        {
          "output_type": "execute_result",
          "data": {
            "text/plain": [
              "(4.714781766829101, 5.605218233170899)"
            ]
          },
          "metadata": {},
          "execution_count": 69
        }
      ]
    },
    {
      "cell_type": "code",
      "source": [],
      "metadata": {
        "id": "n0yM74KotDCu"
      },
      "execution_count": 15,
      "outputs": []
    },
    {
      "cell_type": "code",
      "source": [],
      "metadata": {
        "id": "fMR8ctmltDFe"
      },
      "execution_count": 15,
      "outputs": []
    },
    {
      "cell_type": "code",
      "source": [],
      "metadata": {
        "id": "gJd0MYjotDLB"
      },
      "execution_count": 15,
      "outputs": []
    },
    {
      "cell_type": "code",
      "source": [],
      "metadata": {
        "id": "BKMS3EZatDSi"
      },
      "execution_count": 15,
      "outputs": []
    },
    {
      "cell_type": "markdown",
      "source": [
        "#PART2 Medians difference Efron"
      ],
      "metadata": {
        "id": "3o289eoszBSj"
      }
    },
    {
      "cell_type": "code",
      "source": [
        "#@title mounting Google drive\n",
        "drive.mount('/content/gdrive')\n",
        "\n"
      ],
      "metadata": {
        "id": "opazzC4YHdr6",
        "colab": {
          "base_uri": "https://localhost:8080/"
        },
        "outputId": "7ed39032-bd3b-40d9-8934-b9818f410faa"
      },
      "execution_count": 70,
      "outputs": [
        {
          "output_type": "stream",
          "name": "stdout",
          "text": [
            "Drive already mounted at /content/gdrive; to attempt to forcibly remount, call drive.mount(\"/content/gdrive\", force_remount=True).\n"
          ]
        }
      ]
    },
    {
      "cell_type": "code",
      "source": [
        "#@title reading original csv\n",
        "df = pd.read_csv('gdrive/MyDrive/public_data/df_vk_wise.csv', sep=',')\n",
        "df.head()"
      ],
      "metadata": {
        "colab": {
          "base_uri": "https://localhost:8080/",
          "height": 201
        },
        "id": "9U3eSxqPZ-6C",
        "outputId": "f5b04f4d-91d1-4abb-9e6d-5b11dd1b4b54"
      },
      "execution_count": 71,
      "outputs": [
        {
          "output_type": "execute_result",
          "data": {
            "text/plain": [
              "   likes  reposts                                               text      I\n",
              "0      7        0  Кому удобнее следить за новостями М. в инстагр...  False\n",
              "1    575       25  Если девушка невероятно хороша в юности, но ра...  False\n",
              "2    509       57  То была очень обычная узость мышления - те, кт...  False\n",
              "3    542       15  Когда он знакомил меня с Сергеем, тот спросил:...  False\n",
              "4    949       59  - Общепризнано, сэр, что физические упражнения...  False"
            ],
            "text/html": [
              "\n",
              "  <div id=\"df-c14f2112-b4c9-43ab-a381-6439dc075d5a\" class=\"colab-df-container\">\n",
              "    <div>\n",
              "<style scoped>\n",
              "    .dataframe tbody tr th:only-of-type {\n",
              "        vertical-align: middle;\n",
              "    }\n",
              "\n",
              "    .dataframe tbody tr th {\n",
              "        vertical-align: top;\n",
              "    }\n",
              "\n",
              "    .dataframe thead th {\n",
              "        text-align: right;\n",
              "    }\n",
              "</style>\n",
              "<table border=\"1\" class=\"dataframe\">\n",
              "  <thead>\n",
              "    <tr style=\"text-align: right;\">\n",
              "      <th></th>\n",
              "      <th>likes</th>\n",
              "      <th>reposts</th>\n",
              "      <th>text</th>\n",
              "      <th>I</th>\n",
              "    </tr>\n",
              "  </thead>\n",
              "  <tbody>\n",
              "    <tr>\n",
              "      <th>0</th>\n",
              "      <td>7</td>\n",
              "      <td>0</td>\n",
              "      <td>Кому удобнее следить за новостями М. в инстагр...</td>\n",
              "      <td>False</td>\n",
              "    </tr>\n",
              "    <tr>\n",
              "      <th>1</th>\n",
              "      <td>575</td>\n",
              "      <td>25</td>\n",
              "      <td>Если девушка невероятно хороша в юности, но ра...</td>\n",
              "      <td>False</td>\n",
              "    </tr>\n",
              "    <tr>\n",
              "      <th>2</th>\n",
              "      <td>509</td>\n",
              "      <td>57</td>\n",
              "      <td>То была очень обычная узость мышления - те, кт...</td>\n",
              "      <td>False</td>\n",
              "    </tr>\n",
              "    <tr>\n",
              "      <th>3</th>\n",
              "      <td>542</td>\n",
              "      <td>15</td>\n",
              "      <td>Когда он знакомил меня с Сергеем, тот спросил:...</td>\n",
              "      <td>False</td>\n",
              "    </tr>\n",
              "    <tr>\n",
              "      <th>4</th>\n",
              "      <td>949</td>\n",
              "      <td>59</td>\n",
              "      <td>- Общепризнано, сэр, что физические упражнения...</td>\n",
              "      <td>False</td>\n",
              "    </tr>\n",
              "  </tbody>\n",
              "</table>\n",
              "</div>\n",
              "    <div class=\"colab-df-buttons\">\n",
              "\n",
              "  <div class=\"colab-df-container\">\n",
              "    <button class=\"colab-df-convert\" onclick=\"convertToInteractive('df-c14f2112-b4c9-43ab-a381-6439dc075d5a')\"\n",
              "            title=\"Convert this dataframe to an interactive table.\"\n",
              "            style=\"display:none;\">\n",
              "\n",
              "  <svg xmlns=\"http://www.w3.org/2000/svg\" height=\"24px\" viewBox=\"0 -960 960 960\">\n",
              "    <path d=\"M120-120v-720h720v720H120Zm60-500h600v-160H180v160Zm220 220h160v-160H400v160Zm0 220h160v-160H400v160ZM180-400h160v-160H180v160Zm440 0h160v-160H620v160ZM180-180h160v-160H180v160Zm440 0h160v-160H620v160Z\"/>\n",
              "  </svg>\n",
              "    </button>\n",
              "\n",
              "  <style>\n",
              "    .colab-df-container {\n",
              "      display:flex;\n",
              "      gap: 12px;\n",
              "    }\n",
              "\n",
              "    .colab-df-convert {\n",
              "      background-color: #E8F0FE;\n",
              "      border: none;\n",
              "      border-radius: 50%;\n",
              "      cursor: pointer;\n",
              "      display: none;\n",
              "      fill: #1967D2;\n",
              "      height: 32px;\n",
              "      padding: 0 0 0 0;\n",
              "      width: 32px;\n",
              "    }\n",
              "\n",
              "    .colab-df-convert:hover {\n",
              "      background-color: #E2EBFA;\n",
              "      box-shadow: 0px 1px 2px rgba(60, 64, 67, 0.3), 0px 1px 3px 1px rgba(60, 64, 67, 0.15);\n",
              "      fill: #174EA6;\n",
              "    }\n",
              "\n",
              "    .colab-df-buttons div {\n",
              "      margin-bottom: 4px;\n",
              "    }\n",
              "\n",
              "    [theme=dark] .colab-df-convert {\n",
              "      background-color: #3B4455;\n",
              "      fill: #D2E3FC;\n",
              "    }\n",
              "\n",
              "    [theme=dark] .colab-df-convert:hover {\n",
              "      background-color: #434B5C;\n",
              "      box-shadow: 0px 1px 3px 1px rgba(0, 0, 0, 0.15);\n",
              "      filter: drop-shadow(0px 1px 2px rgba(0, 0, 0, 0.3));\n",
              "      fill: #FFFFFF;\n",
              "    }\n",
              "  </style>\n",
              "\n",
              "    <script>\n",
              "      const buttonEl =\n",
              "        document.querySelector('#df-c14f2112-b4c9-43ab-a381-6439dc075d5a button.colab-df-convert');\n",
              "      buttonEl.style.display =\n",
              "        google.colab.kernel.accessAllowed ? 'block' : 'none';\n",
              "\n",
              "      async function convertToInteractive(key) {\n",
              "        const element = document.querySelector('#df-c14f2112-b4c9-43ab-a381-6439dc075d5a');\n",
              "        const dataTable =\n",
              "          await google.colab.kernel.invokeFunction('convertToInteractive',\n",
              "                                                    [key], {});\n",
              "        if (!dataTable) return;\n",
              "\n",
              "        const docLinkHtml = 'Like what you see? Visit the ' +\n",
              "          '<a target=\"_blank\" href=https://colab.research.google.com/notebooks/data_table.ipynb>data table notebook</a>'\n",
              "          + ' to learn more about interactive tables.';\n",
              "        element.innerHTML = '';\n",
              "        dataTable['output_type'] = 'display_data';\n",
              "        await google.colab.output.renderOutput(dataTable, element);\n",
              "        const docLink = document.createElement('div');\n",
              "        docLink.innerHTML = docLinkHtml;\n",
              "        element.appendChild(docLink);\n",
              "      }\n",
              "    </script>\n",
              "  </div>\n",
              "\n",
              "\n",
              "<div id=\"df-7287eb52-0a4c-4390-9f69-76d5c0e38789\">\n",
              "  <button class=\"colab-df-quickchart\" onclick=\"quickchart('df-7287eb52-0a4c-4390-9f69-76d5c0e38789')\"\n",
              "            title=\"Suggest charts\"\n",
              "            style=\"display:none;\">\n",
              "\n",
              "<svg xmlns=\"http://www.w3.org/2000/svg\" height=\"24px\"viewBox=\"0 0 24 24\"\n",
              "     width=\"24px\">\n",
              "    <g>\n",
              "        <path d=\"M19 3H5c-1.1 0-2 .9-2 2v14c0 1.1.9 2 2 2h14c1.1 0 2-.9 2-2V5c0-1.1-.9-2-2-2zM9 17H7v-7h2v7zm4 0h-2V7h2v10zm4 0h-2v-4h2v4z\"/>\n",
              "    </g>\n",
              "</svg>\n",
              "  </button>\n",
              "\n",
              "<style>\n",
              "  .colab-df-quickchart {\n",
              "      --bg-color: #E8F0FE;\n",
              "      --fill-color: #1967D2;\n",
              "      --hover-bg-color: #E2EBFA;\n",
              "      --hover-fill-color: #174EA6;\n",
              "      --disabled-fill-color: #AAA;\n",
              "      --disabled-bg-color: #DDD;\n",
              "  }\n",
              "\n",
              "  [theme=dark] .colab-df-quickchart {\n",
              "      --bg-color: #3B4455;\n",
              "      --fill-color: #D2E3FC;\n",
              "      --hover-bg-color: #434B5C;\n",
              "      --hover-fill-color: #FFFFFF;\n",
              "      --disabled-bg-color: #3B4455;\n",
              "      --disabled-fill-color: #666;\n",
              "  }\n",
              "\n",
              "  .colab-df-quickchart {\n",
              "    background-color: var(--bg-color);\n",
              "    border: none;\n",
              "    border-radius: 50%;\n",
              "    cursor: pointer;\n",
              "    display: none;\n",
              "    fill: var(--fill-color);\n",
              "    height: 32px;\n",
              "    padding: 0;\n",
              "    width: 32px;\n",
              "  }\n",
              "\n",
              "  .colab-df-quickchart:hover {\n",
              "    background-color: var(--hover-bg-color);\n",
              "    box-shadow: 0 1px 2px rgba(60, 64, 67, 0.3), 0 1px 3px 1px rgba(60, 64, 67, 0.15);\n",
              "    fill: var(--button-hover-fill-color);\n",
              "  }\n",
              "\n",
              "  .colab-df-quickchart-complete:disabled,\n",
              "  .colab-df-quickchart-complete:disabled:hover {\n",
              "    background-color: var(--disabled-bg-color);\n",
              "    fill: var(--disabled-fill-color);\n",
              "    box-shadow: none;\n",
              "  }\n",
              "\n",
              "  .colab-df-spinner {\n",
              "    border: 2px solid var(--fill-color);\n",
              "    border-color: transparent;\n",
              "    border-bottom-color: var(--fill-color);\n",
              "    animation:\n",
              "      spin 1s steps(1) infinite;\n",
              "  }\n",
              "\n",
              "  @keyframes spin {\n",
              "    0% {\n",
              "      border-color: transparent;\n",
              "      border-bottom-color: var(--fill-color);\n",
              "      border-left-color: var(--fill-color);\n",
              "    }\n",
              "    20% {\n",
              "      border-color: transparent;\n",
              "      border-left-color: var(--fill-color);\n",
              "      border-top-color: var(--fill-color);\n",
              "    }\n",
              "    30% {\n",
              "      border-color: transparent;\n",
              "      border-left-color: var(--fill-color);\n",
              "      border-top-color: var(--fill-color);\n",
              "      border-right-color: var(--fill-color);\n",
              "    }\n",
              "    40% {\n",
              "      border-color: transparent;\n",
              "      border-right-color: var(--fill-color);\n",
              "      border-top-color: var(--fill-color);\n",
              "    }\n",
              "    60% {\n",
              "      border-color: transparent;\n",
              "      border-right-color: var(--fill-color);\n",
              "    }\n",
              "    80% {\n",
              "      border-color: transparent;\n",
              "      border-right-color: var(--fill-color);\n",
              "      border-bottom-color: var(--fill-color);\n",
              "    }\n",
              "    90% {\n",
              "      border-color: transparent;\n",
              "      border-bottom-color: var(--fill-color);\n",
              "    }\n",
              "  }\n",
              "</style>\n",
              "\n",
              "  <script>\n",
              "    async function quickchart(key) {\n",
              "      const quickchartButtonEl =\n",
              "        document.querySelector('#' + key + ' button');\n",
              "      quickchartButtonEl.disabled = true;  // To prevent multiple clicks.\n",
              "      quickchartButtonEl.classList.add('colab-df-spinner');\n",
              "      try {\n",
              "        const charts = await google.colab.kernel.invokeFunction(\n",
              "            'suggestCharts', [key], {});\n",
              "      } catch (error) {\n",
              "        console.error('Error during call to suggestCharts:', error);\n",
              "      }\n",
              "      quickchartButtonEl.classList.remove('colab-df-spinner');\n",
              "      quickchartButtonEl.classList.add('colab-df-quickchart-complete');\n",
              "    }\n",
              "    (() => {\n",
              "      let quickchartButtonEl =\n",
              "        document.querySelector('#df-7287eb52-0a4c-4390-9f69-76d5c0e38789 button');\n",
              "      quickchartButtonEl.style.display =\n",
              "        google.colab.kernel.accessAllowed ? 'block' : 'none';\n",
              "    })();\n",
              "  </script>\n",
              "</div>\n",
              "    </div>\n",
              "  </div>\n"
            ],
            "application/vnd.google.colaboratory.intrinsic+json": {
              "type": "dataframe",
              "variable_name": "df",
              "summary": "{\n  \"name\": \"df\",\n  \"rows\": 9125,\n  \"fields\": [\n    {\n      \"column\": \"likes\",\n      \"properties\": {\n        \"dtype\": \"number\",\n        \"std\": 1519,\n        \"min\": 7,\n        \"max\": 33822,\n        \"num_unique_values\": 4190,\n        \"samples\": [\n          2768,\n          3280,\n          2793\n        ],\n        \"semantic_type\": \"\",\n        \"description\": \"\"\n      }\n    },\n    {\n      \"column\": \"reposts\",\n      \"properties\": {\n        \"dtype\": \"number\",\n        \"std\": 85,\n        \"min\": 0,\n        \"max\": 1893,\n        \"num_unique_values\": 467,\n        \"samples\": [\n          39,\n          74,\n          45\n        ],\n        \"semantic_type\": \"\",\n        \"description\": \"\"\n      }\n    },\n    {\n      \"column\": \"text\",\n      \"properties\": {\n        \"dtype\": \"string\",\n        \"num_unique_values\": 8648,\n        \"samples\": [\n          \"\\u0412 \\u044d\\u0442\\u043e\\u043c \\u043c\\u0438\\u0440\\u0435 \\u043d\\u0435 \\u043f\\u043e\\u043b\\u0443\\u0447\\u0430\\u0435\\u0442\\u0441\\u044f \\u043e\\u0441\\u0442\\u0430\\u0442\\u044c\\u0441\\u044f \\u0441\\u043e\\u0432\\u0441\\u0435\\u043c \\u043e\\u0434\\u043d\\u043e\\u043c\\u0443. \\u0417\\u0434\\u0435\\u0441\\u044c \\u0432\\u0441\\u0435\\u0433\\u0434\\u0430 \\u0447\\u0442\\u043e-\\u0442\\u043e \\u0441\\u0432\\u044f\\u0437\\u044b\\u0432\\u0430\\u0435\\u0442 \\u0447\\u0435\\u043b\\u043e\\u0432\\u0435\\u043a\\u0430 \\u0441 \\u0434\\u0440\\u0443\\u0433\\u0438\\u043c\\u0438.\\n\\n\\u0425\\u0430\\u0440\\u0443\\u043a\\u0438 \\u041c\\u0443\\u0440\\u0430\\u043a\\u0430\\u043c\\u0438.\",\n          \"\\u041c\\u0443\\u0436\\u0447\\u0438\\u043d\\u0430 \\u043d\\u0435 \\u0434\\u0443\\u043c\\u0430\\u0435\\u0442 \\u043e \\u0441\\u0435\\u0431\\u0435 \\u043b\\u0438\\u0448\\u044c \\u0432 \\u0442\\u0435 \\u043c\\u0438\\u043d\\u0443\\u0442\\u044b, \\u043a\\u043e\\u0433\\u0434\\u0430 \\u043e\\u043d \\u0443\\u0432\\u0435\\u0440\\u0435\\u043d, \\u0447\\u0442\\u043e \\u043a\\u0442\\u043e-\\u0442\\u043e \\u0434\\u0440\\u0443\\u0433\\u043e\\u0439 \\u0434\\u0443\\u043c\\u0430\\u0435\\u0442 \\u0442\\u043e\\u043b\\u044c\\u043a\\u043e \\u043e \\u043d\\u0451\\u043c.\\n\\n\\u041b\\u0443\\u0438\\u0437\\u0430 \\u0424\\u0440\\u0430\\u043d\\u0441\\u0443\\u0430\\u0437\\u0430 \\u0434\\u0435 \\u041b\\u0430 \\u0411\\u043e\\u043c \\u041b\\u0435 \\u0411\\u043b\\u0430\\u043d\",\n          \"\\u0411\\u044b\\u0432\\u0430\\u044e\\u0442 \\u043c\\u043e\\u043c\\u0435\\u043d\\u0442\\u044b, \\u043a\\u043e\\u0433\\u0434\\u0430 \\u0447\\u0435\\u043b\\u043e\\u0432\\u0435\\u043a\\u0443 \\u043d\\u0435\\u043e\\u0431\\u0445\\u043e\\u0434\\u0438\\u043c\\u043e \\u043f\\u043e\\u0440\\u0432\\u0430\\u0442\\u044c \\u0441 \\u0434\\u0440\\u0443\\u0437\\u044c\\u044f\\u043c\\u0438, \\u0447\\u0442\\u043e\\u0431\\u044b \\u043f\\u043e\\u043d\\u044f\\u0442\\u044c \\u0441\\u043c\\u044b\\u0441\\u043b \\u0434\\u0440\\u0443\\u0436\\u0431\\u044b. \\n \\n\\u0413\\u0435\\u043d\\u0440\\u0438 \\u041c\\u0438\\u043b\\u043b\\u0435\\u0440 \\\"\\u0422\\u0440\\u043e\\u043f\\u0438\\u043a \\u041a\\u043e\\u0437\\u0435\\u0440\\u043e\\u0433\\u0430\\\"\"\n        ],\n        \"semantic_type\": \"\",\n        \"description\": \"\"\n      }\n    },\n    {\n      \"column\": \"I\",\n      \"properties\": {\n        \"dtype\": \"boolean\",\n        \"num_unique_values\": 2,\n        \"samples\": [\n          true,\n          false\n        ],\n        \"semantic_type\": \"\",\n        \"description\": \"\"\n      }\n    }\n  ]\n}"
            }
          },
          "metadata": {},
          "execution_count": 71
        }
      ]
    },
    {
      "cell_type": "code",
      "source": [
        "#Построим гистограмму для числа репостов постов, содержащих личные местоимения и не содержащих\n",
        "x = df[df['I']== True]['likes'].values\n",
        "y = df[df['I']== False]['likes'].values\n",
        "\n",
        "plt.figure(figsize=(10,5))\n",
        "plt.hist(x, bins=40, density=True, alpha=0.4, label='yes')\n",
        "plt.hist(y, bins=40, density=True, alpha=0.4, label='no')\n",
        "plt.legend();"
      ],
      "metadata": {
        "colab": {
          "base_uri": "https://localhost:8080/",
          "height": 447
        },
        "id": "xB-SQc46aORk",
        "outputId": "b07439f5-6f54-428d-a6d9-b890719450cc"
      },
      "execution_count": 72,
      "outputs": [
        {
          "output_type": "display_data",
          "data": {
            "text/plain": [
              "<Figure size 1000x500 with 1 Axes>"
            ],
            "image/png": "[encoded data removed]"
          },
          "metadata": {}
        }
      ]
    },
    {
      "cell_type": "code",
      "source": [
        "np.median(x), np.median(y)"
      ],
      "metadata": {
        "colab": {
          "base_uri": "https://localhost:8080/"
        },
        "id": "acEj1N_DfKbq",
        "outputId": "77cf1f84-d2a5-4d22-fbe1-ee09fd84b7e6"
      },
      "execution_count": 48,
      "outputs": [
        {
          "output_type": "execute_result",
          "data": {
            "text/plain": [
              "(2580.5, 2490.0)"
            ]
          },
          "metadata": {},
          "execution_count": 48
        }
      ]
    },
    {
      "cell_type": "code",
      "source": [
        "# Хвосты на гистограммах оказываются очень длинными. У нас есть выбросы.\n",
        "# Смотреть на средние, чтобы сравнить между собой разные цитаты, будет некорректно.\n",
        "# Будем смотреть на медианы. Построим доверительный интервал для разности медиан.\n",
        "x_boot = get_bootstrap_sample(x, B_sample=10**4, random_seed=42)\n",
        "x_boot = np.median(x_boot, axis=0)\n",
        "\n",
        "y_boot = get_bootstrap_sample(y, B_sample=10**4, random_seed=42)\n",
        "y_boot = np.median(y_boot, axis=0)"
      ],
      "metadata": {
        "id": "2hMb6DrmfiCM"
      },
      "execution_count": 73,
      "outputs": []
    },
    {
      "cell_type": "code",
      "source": [
        "def efron_intervals(boot, alpha=0.05):\n",
        "    left = np.quantile(boot, alpha/2)\n",
        "    right = np.quantile(boot, 1-alpha/2)\n",
        "    return left, right"
      ],
      "metadata": {
        "id": "f5mDROV9tNKR"
      },
      "execution_count": 74,
      "outputs": []
    },
    {
      "cell_type": "code",
      "source": [
        "print(efron_intervals(x_boot))\n",
        "print(efron_intervals(y_boot))"
      ],
      "metadata": {
        "colab": {
          "base_uri": "https://localhost:8080/"
        },
        "id": "1_4-A1bMhJGv",
        "outputId": "6f6efea7-8ea1-4bcf-a748-7050ad55403d"
      },
      "execution_count": 75,
      "outputs": [
        {
          "output_type": "stream",
          "name": "stdout",
          "text": [
            "(2516.0, 2659.0)\n",
            "(2456.0, 2528.0)\n"
          ]
        }
      ]
    },
    {
      "cell_type": "code",
      "source": [
        "# Доверительные интервалы пересекаются. Но делать вывод лучше по доверительному интервалу для разности. Такая процедура будет мощнее\n",
        "sns.histplot(x_boot - y_boot, kde=True);"
      ],
      "metadata": {
        "colab": {
          "base_uri": "https://localhost:8080/",
          "height": 429
        },
        "id": "R0aI_l9WhrvX",
        "outputId": "fb7aa327-d151-4549-8407-88b07d04d457"
      },
      "execution_count": 76,
      "outputs": [
        {
          "output_type": "display_data",
          "data": {
            "text/plain": [
              "<Figure size 640x480 with 1 Axes>"
            ],
            "image/png": "[encoded data removed]"
          },
          "metadata": {}
        }
      ]
    },
    {
      "cell_type": "code",
      "source": [
        "print(\"Доверительный интервал Эфрона для разницы медиан:\", efron_intervals(x_boot - y_boot))"
      ],
      "metadata": {
        "colab": {
          "base_uri": "https://localhost:8080/"
        },
        "id": "zhvohuhyiFk5",
        "outputId": "2136fc70-f808-47d5-827f-57e67d38a9a7"
      },
      "execution_count": 77,
      "outputs": [
        {
          "output_type": "stream",
          "name": "stdout",
          "text": [
            "Доверительный интервал Эфрона для разницы медиан: (14.987500000000011, 172.51249999999982)\n"
          ]
        }
      ]
    },
    {
      "cell_type": "code",
      "source": [
        "#Ноль не попадает в доверительный интервал, значит на уровне значимости разница есть. На последок посмотрим на вероятность того, что разность больше нуля.\n",
        "np.mean(x_boot - y_boot > 0)"
      ],
      "metadata": {
        "colab": {
          "base_uri": "https://localhost:8080/"
        },
        "id": "wJpoAl5TiQdb",
        "outputId": "30223387-31e1-4f52-d1f7-8953968b0c3c"
      },
      "execution_count": 78,
      "outputs": [
        {
          "output_type": "execute_result",
          "data": {
            "text/plain": [
              "0.9902"
            ]
          },
          "metadata": {},
          "execution_count": 78
        }
      ]
    },
    {
      "cell_type": "code",
      "source": [],
      "metadata": {
        "id": "B265NBwfu0j2"
      },
      "execution_count": 78,
      "outputs": []
    },
    {
      "cell_type": "code",
      "source": [],
      "metadata": {
        "id": "p8YFnLPnu0mK"
      },
      "execution_count": 78,
      "outputs": []
    },
    {
      "cell_type": "markdown",
      "source": [
        "#PART3 Median difference Hall"
      ],
      "metadata": {
        "id": "3WQUqPuSzedS"
      }
    },
    {
      "cell_type": "code",
      "source": [
        "theta_hat_x = np.median(x)\n",
        "theta_hat_y = np.median(y)\n",
        "\n",
        "print(theta_hat_x - theta_hat_y)\n",
        "print(np.median(x - theta_hat_y))"
      ],
      "metadata": {
        "colab": {
          "base_uri": "https://localhost:8080/"
        },
        "id": "9rZzsDDSiaM_",
        "outputId": "385da929-0e41-4579-d218-09106d78d411"
      },
      "execution_count": 79,
      "outputs": [
        {
          "output_type": "stream",
          "name": "stdout",
          "text": [
            "90.5\n",
            "90.5\n"
          ]
        }
      ]
    },
    {
      "cell_type": "code",
      "source": [
        "def hall_intervals(boot, theta_hat, alpha=0.05):\n",
        "    boot_h = boot - theta_hat\n",
        "\n",
        "    left = theta_hat - np.quantile(boot_h, 1-alpha/2)\n",
        "    right = theta_hat - np.quantile(boot_h, alpha/2)\n",
        "    return left, right\n",
        "\n",
        "\n",
        "print(hall_intervals(x_boot, theta_hat_x))\n",
        "print(hall_intervals(y_boot, theta_hat_y))\n",
        "print(hall_intervals(x_boot - y_boot, theta_hat = np.median(x - theta_hat_y)))\n"
      ],
      "metadata": {
        "colab": {
          "base_uri": "https://localhost:8080/"
        },
        "id": "IwuZYhzJfsFD",
        "outputId": "3b30aab3-4762-4858-fca6-e14470b458a0"
      },
      "execution_count": 88,
      "outputs": [
        {
          "output_type": "stream",
          "name": "stdout",
          "text": [
            "(2502.0, 2645.0)\n",
            "(2452.0, 2524.0)\n",
            "(8.487500000000182, 166.0125)\n"
          ]
        }
      ]
    },
    {
      "cell_type": "code",
      "source": [
        "# https://habr.com/ru/articles/829336/\n",
        "def get_bootstrap_ci(X, func, B_sample = 10**4, kind = 't-percentile', alpha = 0.05, random_seed=None):\n",
        "    n = X.size\n",
        "    bootstrap_samples = get_bootstrap_sample(X, B_sample=B_sample, random_seed=42)\n",
        "    theta_hat_star = func(bootstrap_samples, axis=0)\n",
        "\n",
        "\n",
        "    if kind == 't-percentile':\n",
        "        theta_hat = func(X)\n",
        "        se_theta_hat = np.std(X, ddof=1) / np.sqrt(n)\n",
        "        se_theta_hat_star = np.std(bootstrap_samples, axis=1, ddof=1) / np.sqrt(n)\n",
        "        theta_hat_star = (theta_hat_star - theta_hat) / se_theta_hat_star\n",
        "        left, right = np.quantile(theta_hat_star, (1 - alpha / 2, alpha / 2))\n",
        "        ci = (theta_hat - se_theta_hat * left, theta_hat - se_theta_hat * right)\n",
        "\n",
        "    elif kind == 'Hall':\n",
        "        theta_hat = func(X)\n",
        "        theta_hat_star -= theta_hat\n",
        "        left, right = np.quantile(theta_hat_star, (1 - alpha / 2, alpha / 2))\n",
        "        ci = (theta_hat - left, theta_hat - right)\n",
        "\n",
        "    elif kind == 'Efron':\n",
        "        left, right = np.quantile(theta_hat_star, (alpha / 2, 1 - alpha / 2))\n",
        "        ci = (left, right)\n",
        "\n",
        "    else:\n",
        "        raise ValueError('Unknown method')\n",
        "\n",
        "    return ci\n",
        "\n",
        "print(get_bootstrap_ci(x, np.median, kind='Hall', random_seed=42))\n"
      ],
      "metadata": {
        "colab": {
          "base_uri": "https://localhost:8080/"
        },
        "id": "bihD4EisvsIG",
        "outputId": "b33a768e-d686-44eb-9bcd-a1df0f8f9e7f"
      },
      "execution_count": 90,
      "outputs": [
        {
          "output_type": "stream",
          "name": "stdout",
          "text": [
            "(2502.0, 2645.0)\n"
          ]
        }
      ]
    },
    {
      "cell_type": "markdown",
      "source": [
        "Обычно бутстрап применяется в следующих случаях:\n",
        "*  теоретическое распределение данных неизвестно;\n",
        "*  объем выборки мал для прямой статистической оценки;\n",
        "*  нет параметрических или непараметрических аналогов;\n",
        "*  необходима оценка сложных статистик, для которых сложно получить аналитические формулы.\n",
        "\n",
        "\n",
        "Ключевое преимущество бутстрапа заключается в том, что его можно применять в широком спектре задач, даже тогда, когда все остальные методы, как параметрические, так и непараметрические, бессильны.\n",
        "\n",
        "\n",
        "Данный метод не требует предположений о распределении данных от исследователя. Единственное условие, которое необходимо выполнить — репрезентативность выборки.\n",
        "\n",
        "\n",
        "\n",
        "Проблемы\n",
        "\n",
        "1) По сравнению с аналитическими доверительными интервалами, доверительные интервалы, полученные с помощью бутстрапирования (не имеет значения какая выбрана схема), несколько уже, если исходная выборка мала. Это является недостатком, так как мы по сути недооцениваем разброс выборочной статистики при небольшом количестве наблюдений в исходной выборке.\n",
        "\n",
        "\n",
        "2) С помощью бутстрапирования мы охватываем асимптотически только 63% наблюдений из исходной выборки, а 37% наблюдений не попадают в бутстрап-выборку. Этот факт является следствием того, что мы берем выборки с повторениями.\n",
        "\n",
        "\n",
        "3) Исходя из предыдущего факта следует, что бутстрап является отличной техникой для работы в средиземье, но не в крайнеземье. А когда у распределения исходной выборки тяжелые хвосты (то есть много выбросов), бутстрап может начать плохо себя показывать даже в средиземье.\n",
        "\n",
        "\n",
        "4) При наличии структуры в данных (регрессия, временные ряды) бутстрап схему необходимо устроить таким образом, чтобы она учитывала эту структуру.\n"
      ],
      "metadata": {
        "id": "4kSolafm4FXJ"
      }
    },
    {
      "cell_type": "code",
      "source": [],
      "metadata": {
        "id": "rI8uTRXKwgQB"
      },
      "execution_count": 29,
      "outputs": []
    }
  ]
}