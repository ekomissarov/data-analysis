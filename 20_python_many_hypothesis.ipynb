{
  "cells": [
    {
      "cell_type": "markdown",
      "metadata": {
        "id": "view-in-github",
        "colab_type": "text"
      },
      "source": [
        "<a href=\"https://colab.research.google.com/github/ekomissarov/data-analysis/blob/main/20_python_many_hypothesis.ipynb\" target=\"_parent\"><img src=\"https://colab.research.google.com/assets/colab-badge.svg\" alt=\"Open In Colab\"/></a>"
      ]
    },
    {
      "cell_type": "markdown",
      "source": [
        "https://github.com/FUlyankin/matstat-AB/blob/main/week11_AB/05_python_many_hyp.ipynb"
      ],
      "metadata": {
        "id": "r9B60XyWa61F"
      }
    },
    {
      "cell_type": "code",
      "execution_count": 1,
      "metadata": {
        "id": "STvgg-AKZ1f4"
      },
      "outputs": [],
      "source": [
        "import numpy as np\n",
        "import pandas as pd\n",
        "from scipy import stats\n",
        "import seaborn as sns\n",
        "import matplotlib.pyplot as plt\n",
        "\n",
        "plt.style.use('ggplot')"
      ]
    },
    {
      "cell_type": "markdown",
      "metadata": {
        "id": "ONWFjkixZ1f9"
      },
      "source": [
        "# Песнь льда и пламени\n",
        "\n",
        "Говорят, Джордж Р.Р. Мартин, автор цикла \"Песнь Льда и Пламени\", истребляет Старков: чаще убивает персонажей, относящихся к этому дому, чем персонажей других домов. В таблице ниже приведено количество персонажей, относящихся к тому или иному дому, упомянутых за первые $4$ книги, а так же количество погибших персонажей.\n",
        "\n",
        "| Дом | Упомянутые персонажи | Погибшие персонажи |\n",
        "|-----|---------------------|------|\n",
        "|House Stark\t| 70 | 25 |\n",
        "|House Lannister | 38 | 7 |\n",
        "|House Greyjoy | 41 | 12 |\n",
        "|Night's Watch |105 | 41 |\n",
        "\n",
        "Нужно проверить гипотезу об этом на $5\\%$ уровне значимости."
      ]
    },
    {
      "cell_type": "markdown",
      "metadata": {
        "id": "yQ3_iI-NZ1f-"
      },
      "source": [
        "### Формализация задачи:\n",
        "\n",
        "Нам нужно проверить гипотезу о том, что доля смертей среди Старков совпадает со всеми остальными долями против альтернативы, что хотя бы в одной из ситуаций смертность в доме Старков больше:\n",
        "\n",
        "\\begin{equation*}\n",
        "\\begin{aligned}\n",
        "& H_0: p_S = p_L = p_G = p_{NW}  \\\\\n",
        "& H_1: \\text{хотя бы одна вероятность отличается}  \n",
        "\\end{aligned}\n",
        "\\end{equation*}\n",
        "\n",
        "Протестируем все гипотезы без коррекции на множественное тестирование, а потом введём её."
      ]
    },
    {
      "cell_type": "code",
      "execution_count": 2,
      "metadata": {
        "id": "tyH2CgEnZ1f_"
      },
      "outputs": [],
      "source": [
        "n_st = 70\n",
        "m_st = 25\n",
        "\n",
        "n_lan = 38\n",
        "m_lan = 7\n",
        "\n",
        "n_gr = 41\n",
        "m_gr = 12\n",
        "\n",
        "n_nw = 105\n",
        "m_nw = 41\n",
        "\n",
        "alpha = 0.05"
      ]
    },
    {
      "cell_type": "code",
      "execution_count": 3,
      "metadata": {
        "colab": {
          "base_uri": "https://localhost:8080/"
        },
        "id": "YFYtmopxZ1gD",
        "outputId": "3fa9109b-f6f9-4ff5-847e-5b7e47a343f8"
      },
      "outputs": [
        {
          "output_type": "execute_result",
          "data": {
            "text/plain": [
              "(0.35714285714285715,\n",
              " 0.18421052631578946,\n",
              " 0.2926829268292683,\n",
              " 0.3904761904761905)"
            ]
          },
          "metadata": {},
          "execution_count": 3
        }
      ],
      "source": [
        "m_st/n_st, m_lan/n_lan, m_gr/n_gr, m_nw/n_nw"
      ]
    },
    {
      "cell_type": "markdown",
      "metadata": {
        "id": "spuNjQIJZ1gG"
      },
      "source": [
        "Проверяем три гипотезы!"
      ]
    },
    {
      "cell_type": "code",
      "execution_count": 4,
      "metadata": {
        "colab": {
          "base_uri": "https://localhost:8080/"
        },
        "id": "KI1lw3zEZ1gG",
        "outputId": "77bec203-1b9c-4ce8-9599-44dbb5a99d57"
      },
      "outputs": [
        {
          "output_type": "execute_result",
          "data": {
            "text/plain": [
              "array([0.03008672, 0.24343199, 0.67209806])"
            ]
          },
          "metadata": {},
          "execution_count": 4
        }
      ],
      "source": [
        "from statsmodels.stats.proportion import proportions_ztest\n",
        "\n",
        "_, p1 =  proportions_ztest((m_st, m_lan),\n",
        "                           (n_st, n_lan),\n",
        "                           value=0,\n",
        "                           alternative='larger')\n",
        "\n",
        "\n",
        "_, p2 =  proportions_ztest((m_st, m_gr),\n",
        "                           (n_st, n_gr),\n",
        "                           value=0,\n",
        "                           alternative='larger')\n",
        "\n",
        "_, p3 =  proportions_ztest((m_st, m_nw),\n",
        "                           (n_st, n_nw),\n",
        "                           value=0,\n",
        "                           alternative='larger')\n",
        "\n",
        "pval = np.array([p1, p2, p3])\n",
        "pval"
      ]
    },
    {
      "cell_type": "code",
      "execution_count": 5,
      "metadata": {
        "colab": {
          "base_uri": "https://localhost:8080/"
        },
        "id": "v3Os2w6BZ1gI",
        "outputId": "ce4ccf74-0552-4322-977f-f6e1fba9693d"
      },
      "outputs": [
        {
          "output_type": "execute_result",
          "data": {
            "text/plain": [
              "array([False,  True,  True])"
            ]
          },
          "metadata": {},
          "execution_count": 5
        }
      ],
      "source": [
        "pval > 0.05 # без коррекции, TRUE - не отвергается"
      ]
    },
    {
      "cell_type": "markdown",
      "metadata": {
        "id": "SIJXzK5SZ1gI"
      },
      "source": [
        "Самая первая гипотеза отвергается. Отсюда делаем вывод, что смертность значимо различается. Помним, что ошибка первого рода - ошибочный выбор альтернативы. В случае, когда мы никак не контролируем уровень значимости она оказывается завышена. Посмотрим, что будет происходить при корекции."
      ]
    },
    {
      "cell_type": "markdown",
      "metadata": {
        "id": "3fKVmwuPZ1gJ"
      },
      "source": [
        "__а)__ Коррекция Бонферрони"
      ]
    },
    {
      "cell_type": "code",
      "execution_count": 6,
      "metadata": {
        "colab": {
          "base_uri": "https://localhost:8080/"
        },
        "id": "MnH3V7GWZ1gJ",
        "outputId": "e39a1a26-f250-4b8d-d1b6-0495d06a75fb"
      },
      "outputs": [
        {
          "output_type": "execute_result",
          "data": {
            "text/plain": [
              "array([ True,  True,  True])"
            ]
          },
          "metadata": {},
          "execution_count": 6
        }
      ],
      "source": [
        "pval > 0.05/3  # поделили уровень значимости на число гипотез :)"
      ]
    },
    {
      "cell_type": "code",
      "execution_count": 7,
      "metadata": {
        "colab": {
          "base_uri": "https://localhost:8080/"
        },
        "id": "morBnse2Z1gK",
        "outputId": "f2d729b2-7404-4718-d4b1-fe3d428e4907"
      },
      "outputs": [
        {
          "output_type": "execute_result",
          "data": {
            "text/plain": [
              "array([0.09026015, 0.73029598, 1.        ])"
            ]
          },
          "metadata": {},
          "execution_count": 7
        }
      ],
      "source": [
        "from statsmodels.sandbox.stats.multicomp import multipletests\n",
        "\n",
        "rejected, p_corrected, _, _ = multipletests(pval,\n",
        "                                            alpha = 0.05,\n",
        "                                            method = 'bonferroni')\n",
        "p_corrected"
      ]
    },
    {
      "cell_type": "code",
      "execution_count": 8,
      "metadata": {
        "colab": {
          "base_uri": "https://localhost:8080/"
        },
        "id": "0Lhh_HZOZ1gL",
        "outputId": "72e254bc-4dc1-41c6-8d94-1a700189c6af"
      },
      "outputs": [
        {
          "output_type": "execute_result",
          "data": {
            "text/plain": [
              "array([ True,  True,  True])"
            ]
          },
          "metadata": {},
          "execution_count": 8
        }
      ],
      "source": [
        "p_corrected > 0.05 # TRUE - не отвергается"
      ]
    },
    {
      "cell_type": "markdown",
      "metadata": {
        "id": "fq8WTgJTZ1gM"
      },
      "source": [
        "Все три гипотезы о равенстве смертностей не отвергаются."
      ]
    },
    {
      "cell_type": "markdown",
      "metadata": {
        "id": "G67jDcXqZ1gN"
      },
      "source": [
        "__б)__ Метод Холма"
      ]
    },
    {
      "cell_type": "code",
      "execution_count": 9,
      "metadata": {
        "colab": {
          "base_uri": "https://localhost:8080/"
        },
        "id": "V-j-lBtZZ1gN",
        "outputId": "ddc4898e-caec-43a9-e3eb-85a701bb82e2"
      },
      "outputs": [
        {
          "output_type": "execute_result",
          "data": {
            "text/plain": [
              "array([0.09026015, 0.48686399, 0.67209806])"
            ]
          },
          "metadata": {},
          "execution_count": 9
        }
      ],
      "source": [
        "rejected, p_corrected, _, _ = multipletests(pval,\n",
        "                                            alpha = 0.05,\n",
        "                                            method = 'holm')\n",
        "p_corrected"
      ]
    },
    {
      "cell_type": "code",
      "execution_count": 10,
      "metadata": {
        "colab": {
          "base_uri": "https://localhost:8080/"
        },
        "id": "hCxDhaztZ1gO",
        "outputId": "d8e4143e-e857-4b1e-c5f3-168fea1376f0"
      },
      "outputs": [
        {
          "output_type": "execute_result",
          "data": {
            "text/plain": [
              "array([ True,  True,  True])"
            ]
          },
          "metadata": {},
          "execution_count": 10
        }
      ],
      "source": [
        "p_corrected > 0.05 # TRUE - не отвергается"
      ]
    },
    {
      "cell_type": "markdown",
      "metadata": {
        "id": "8RuWAPW6Z1gP"
      },
      "source": [
        "Все три гипотезы о равенстве смертностей не отвергаются."
      ]
    },
    {
      "cell_type": "markdown",
      "metadata": {
        "id": "G6VaVL8iZ1gP"
      },
      "source": [
        "__в)__ Метод Бенджамини-Хохберга"
      ]
    },
    {
      "cell_type": "code",
      "execution_count": 11,
      "metadata": {
        "colab": {
          "base_uri": "https://localhost:8080/"
        },
        "id": "1AtHCOb3Z1gQ",
        "outputId": "7139992d-f3e9-4d51-9c4d-1728745c557a"
      },
      "outputs": [
        {
          "output_type": "execute_result",
          "data": {
            "text/plain": [
              "array([0.09026015, 0.36514799, 0.67209806])"
            ]
          },
          "metadata": {},
          "execution_count": 11
        }
      ],
      "source": [
        "rejected, p_corrected, _, _ = multipletests(pval,\n",
        "                                            alpha = 0.05,\n",
        "                                            method = 'fdr_bh')\n",
        "p_corrected"
      ]
    },
    {
      "cell_type": "code",
      "execution_count": 12,
      "metadata": {
        "colab": {
          "base_uri": "https://localhost:8080/"
        },
        "id": "4R6v91vWZ1gR",
        "outputId": "6b239981-4ec3-4cf6-e0a0-6d7c03573c38"
      },
      "outputs": [
        {
          "output_type": "execute_result",
          "data": {
            "text/plain": [
              "array([ True,  True,  True])"
            ]
          },
          "metadata": {},
          "execution_count": 12
        }
      ],
      "source": [
        "p_corrected > 0.05 # TRUE - не отвергается"
      ]
    },
    {
      "cell_type": "markdown",
      "metadata": {
        "id": "oSDkDu0EZ1gR"
      },
      "source": [
        "Все три гипотезы о равенстве смертностей не отвергаются. В пакете есть и другие методы коррекции."
      ]
    },
    {
      "cell_type": "markdown",
      "metadata": {
        "id": "6711PacqZ1gS"
      },
      "source": [
        "https://xkcd.com/882/\n",
        "\n",
        "![](https://imgs.xkcd.com/comics/significant.png)"
      ]
    },
    {
      "cell_type": "markdown",
      "metadata": {
        "id": "shEaodasZ1gS"
      },
      "source": [
        ""
      ]
    }
  ],
  "metadata": {
    "kernelspec": {
      "display_name": "Python 3",
      "language": "python",
      "name": "python3"
    },
    "language_info": {
      "codemirror_mode": {
        "name": "ipython",
        "version": 3
      },
      "file_extension": ".py",
      "mimetype": "text/x-python",
      "name": "python",
      "nbconvert_exporter": "python",
      "pygments_lexer": "ipython3",
      "version": "3.7.6"
    },
    "colab": {
      "provenance": [],
      "include_colab_link": true
    }
  },
  "nbformat": 4,
  "nbformat_minor": 0
}