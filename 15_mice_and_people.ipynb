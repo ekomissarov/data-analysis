{
  "nbformat": 4,
  "nbformat_minor": 0,
  "metadata": {
    "colab": {
      "provenance": [],
      "toc_visible": true,
      "authorship_tag": "ABX9TyOwQ+/I20gVnMiv/JCNHiMT",
      "include_colab_link": true
    },
    "kernelspec": {
      "name": "python3",
      "display_name": "Python 3"
    },
    "language_info": {
      "name": "python"
    }
  },
  "cells": [
    {
      "cell_type": "markdown",
      "metadata": {
        "id": "view-in-github",
        "colab_type": "text"
      },
      "source": [
        "<a href=\"https://colab.research.google.com/github/ekomissarov/data-analysis/blob/main/15_mice_and_people.ipynb\" target=\"_parent\"><img src=\"https://colab.research.google.com/assets/colab-badge.svg\" alt=\"Open In Colab\"/></a>"
      ]
    },
    {
      "cell_type": "markdown",
      "source": [
        "based on - https://github.com/FUlyankin/matstat-AB/blob/main/week09_hypo/10_13_python_mouse_and_man.ipynb"
      ],
      "metadata": {
        "id": "SmKUNRd9i2Fy"
      }
    },
    {
      "cell_type": "code",
      "execution_count": 1,
      "metadata": {
        "id": "QY69r8l6cJux"
      },
      "outputs": [],
      "source": [
        "\n",
        "#@title importing libraries\n",
        "from scipy import stats\n",
        "import statsmodels as sts\n",
        "\n",
        "from google.colab import drive\n",
        "import pandas as pd\n",
        "import numpy as np\n",
        "import time\n",
        "from datetime import date, datetime, timedelta\n",
        "import seaborn as sns\n",
        "from matplotlib import pyplot as plt\n",
        "import plotly.express as px\n",
        "\n",
        "\n",
        "plt.style.use('dark_background')\n",
        "\n",
        "def display_df(df=None):\n",
        "    with pd.option_context('display.max_rows', None, 'display.max_columns', None):  # more options can be specified also\n",
        "        display(df)"
      ]
    },
    {
      "cell_type": "code",
      "source": [
        "#@title mounting Google drive\n",
        "drive.mount('/content/gdrive')"
      ],
      "metadata": {
        "colab": {
          "base_uri": "https://localhost:8080/"
        },
        "id": "7Jsj_kjdcdRC",
        "outputId": "21301a01-b76a-48da-a063-fa26e54bc6bb"
      },
      "execution_count": 2,
      "outputs": [
        {
          "output_type": "stream",
          "name": "stdout",
          "text": [
            "Mounted at /content/gdrive\n"
          ]
        }
      ]
    },
    {
      "cell_type": "code",
      "source": [
        "#@title reading original csv\n",
        "df = pd.read_csv('gdrive/MyDrive/public_data/mouse.csv', sep='\\t')\n",
        "df.head()"
      ],
      "metadata": {
        "colab": {
          "base_uri": "https://localhost:8080/",
          "height": 255
        },
        "id": "O7ey-0iVcdkS",
        "outputId": "2a6e3b72-fa47-42c0-dfde-e433b391d640"
      },
      "execution_count": 3,
      "outputs": [
        {
          "output_type": "execute_result",
          "data": {
            "text/plain": [
              "   STUDY  AGE  GENDER  DECISION  DEO1  DEO2  DEO3  DEO4  DEO5  DEO6  ...  \\\n",
              "0      1   38       1       NaN     2     2     2     1     2     2  ...   \n",
              "1      1   22       1       NaN     1     2     2     1     2     1  ...   \n",
              "2      1   39       1       NaN     1     1     3     5     3     1  ...   \n",
              "3      1   21       0       1.0     2     3     3     3     3     2  ...   \n",
              "4      1   20       0       1.0     4     2     2     2     2     2  ...   \n",
              "\n",
              "         AE  MOUSE1  MOUSE2  MOUSE3     MOUSE  DOUBT  OTHERCHOICE  \\\n",
              "0  5.000000     6.0     5.0     5.0  5.333333    NaN          NaN   \n",
              "1  5.727273     5.0     6.0     6.0  5.666667    NaN          NaN   \n",
              "2  5.545455     6.0     6.0     6.0  6.000000    NaN          NaN   \n",
              "3  5.136364     4.0     7.0     7.0  6.000000    2.0          0.0   \n",
              "4  4.181818     4.0     6.0     6.0  5.333333    4.0          0.0   \n",
              "\n",
              "   UNCOMFORTABLE  NOSHOCK         RT  \n",
              "0            NaN      NaN        NaN  \n",
              "1            NaN      NaN        NaN  \n",
              "2            NaN      NaN        NaN  \n",
              "3            6.0     80.0   9.212427  \n",
              "4            6.5     75.0  17.071711  \n",
              "\n",
              "[5 rows x 132 columns]"
            ],
            "text/html": [
              "\n",
              "  <div id=\"df-3c6594f5-03c0-4724-80a2-091ca7a99db7\" class=\"colab-df-container\">\n",
              "    <div>\n",
              "<style scoped>\n",
              "    .dataframe tbody tr th:only-of-type {\n",
              "        vertical-align: middle;\n",
              "    }\n",
              "\n",
              "    .dataframe tbody tr th {\n",
              "        vertical-align: top;\n",
              "    }\n",
              "\n",
              "    .dataframe thead th {\n",
              "        text-align: right;\n",
              "    }\n",
              "</style>\n",
              "<table border=\"1\" class=\"dataframe\">\n",
              "  <thead>\n",
              "    <tr style=\"text-align: right;\">\n",
              "      <th></th>\n",
              "      <th>STUDY</th>\n",
              "      <th>AGE</th>\n",
              "      <th>GENDER</th>\n",
              "      <th>DECISION</th>\n",
              "      <th>DEO1</th>\n",
              "      <th>DEO2</th>\n",
              "      <th>DEO3</th>\n",
              "      <th>DEO4</th>\n",
              "      <th>DEO5</th>\n",
              "      <th>DEO6</th>\n",
              "      <th>...</th>\n",
              "      <th>AE</th>\n",
              "      <th>MOUSE1</th>\n",
              "      <th>MOUSE2</th>\n",
              "      <th>MOUSE3</th>\n",
              "      <th>MOUSE</th>\n",
              "      <th>DOUBT</th>\n",
              "      <th>OTHERCHOICE</th>\n",
              "      <th>UNCOMFORTABLE</th>\n",
              "      <th>NOSHOCK</th>\n",
              "      <th>RT</th>\n",
              "    </tr>\n",
              "  </thead>\n",
              "  <tbody>\n",
              "    <tr>\n",
              "      <th>0</th>\n",
              "      <td>1</td>\n",
              "      <td>38</td>\n",
              "      <td>1</td>\n",
              "      <td>NaN</td>\n",
              "      <td>2</td>\n",
              "      <td>2</td>\n",
              "      <td>2</td>\n",
              "      <td>1</td>\n",
              "      <td>2</td>\n",
              "      <td>2</td>\n",
              "      <td>...</td>\n",
              "      <td>5.000000</td>\n",
              "      <td>6.0</td>\n",
              "      <td>5.0</td>\n",
              "      <td>5.0</td>\n",
              "      <td>5.333333</td>\n",
              "      <td>NaN</td>\n",
              "      <td>NaN</td>\n",
              "      <td>NaN</td>\n",
              "      <td>NaN</td>\n",
              "      <td>NaN</td>\n",
              "    </tr>\n",
              "    <tr>\n",
              "      <th>1</th>\n",
              "      <td>1</td>\n",
              "      <td>22</td>\n",
              "      <td>1</td>\n",
              "      <td>NaN</td>\n",
              "      <td>1</td>\n",
              "      <td>2</td>\n",
              "      <td>2</td>\n",
              "      <td>1</td>\n",
              "      <td>2</td>\n",
              "      <td>1</td>\n",
              "      <td>...</td>\n",
              "      <td>5.727273</td>\n",
              "      <td>5.0</td>\n",
              "      <td>6.0</td>\n",
              "      <td>6.0</td>\n",
              "      <td>5.666667</td>\n",
              "      <td>NaN</td>\n",
              "      <td>NaN</td>\n",
              "      <td>NaN</td>\n",
              "      <td>NaN</td>\n",
              "      <td>NaN</td>\n",
              "    </tr>\n",
              "    <tr>\n",
              "      <th>2</th>\n",
              "      <td>1</td>\n",
              "      <td>39</td>\n",
              "      <td>1</td>\n",
              "      <td>NaN</td>\n",
              "      <td>1</td>\n",
              "      <td>1</td>\n",
              "      <td>3</td>\n",
              "      <td>5</td>\n",
              "      <td>3</td>\n",
              "      <td>1</td>\n",
              "      <td>...</td>\n",
              "      <td>5.545455</td>\n",
              "      <td>6.0</td>\n",
              "      <td>6.0</td>\n",
              "      <td>6.0</td>\n",
              "      <td>6.000000</td>\n",
              "      <td>NaN</td>\n",
              "      <td>NaN</td>\n",
              "      <td>NaN</td>\n",
              "      <td>NaN</td>\n",
              "      <td>NaN</td>\n",
              "    </tr>\n",
              "    <tr>\n",
              "      <th>3</th>\n",
              "      <td>1</td>\n",
              "      <td>21</td>\n",
              "      <td>0</td>\n",
              "      <td>1.0</td>\n",
              "      <td>2</td>\n",
              "      <td>3</td>\n",
              "      <td>3</td>\n",
              "      <td>3</td>\n",
              "      <td>3</td>\n",
              "      <td>2</td>\n",
              "      <td>...</td>\n",
              "      <td>5.136364</td>\n",
              "      <td>4.0</td>\n",
              "      <td>7.0</td>\n",
              "      <td>7.0</td>\n",
              "      <td>6.000000</td>\n",
              "      <td>2.0</td>\n",
              "      <td>0.0</td>\n",
              "      <td>6.0</td>\n",
              "      <td>80.0</td>\n",
              "      <td>9.212427</td>\n",
              "    </tr>\n",
              "    <tr>\n",
              "      <th>4</th>\n",
              "      <td>1</td>\n",
              "      <td>20</td>\n",
              "      <td>0</td>\n",
              "      <td>1.0</td>\n",
              "      <td>4</td>\n",
              "      <td>2</td>\n",
              "      <td>2</td>\n",
              "      <td>2</td>\n",
              "      <td>2</td>\n",
              "      <td>2</td>\n",
              "      <td>...</td>\n",
              "      <td>4.181818</td>\n",
              "      <td>4.0</td>\n",
              "      <td>6.0</td>\n",
              "      <td>6.0</td>\n",
              "      <td>5.333333</td>\n",
              "      <td>4.0</td>\n",
              "      <td>0.0</td>\n",
              "      <td>6.5</td>\n",
              "      <td>75.0</td>\n",
              "      <td>17.071711</td>\n",
              "    </tr>\n",
              "  </tbody>\n",
              "</table>\n",
              "<p>5 rows × 132 columns</p>\n",
              "</div>\n",
              "    <div class=\"colab-df-buttons\">\n",
              "\n",
              "  <div class=\"colab-df-container\">\n",
              "    <button class=\"colab-df-convert\" onclick=\"convertToInteractive('df-3c6594f5-03c0-4724-80a2-091ca7a99db7')\"\n",
              "            title=\"Convert this dataframe to an interactive table.\"\n",
              "            style=\"display:none;\">\n",
              "\n",
              "  <svg xmlns=\"http://www.w3.org/2000/svg\" height=\"24px\" viewBox=\"0 -960 960 960\">\n",
              "    <path d=\"M120-120v-720h720v720H120Zm60-500h600v-160H180v160Zm220 220h160v-160H400v160Zm0 220h160v-160H400v160ZM180-400h160v-160H180v160Zm440 0h160v-160H620v160ZM180-180h160v-160H180v160Zm440 0h160v-160H620v160Z\"/>\n",
              "  </svg>\n",
              "    </button>\n",
              "\n",
              "  <style>\n",
              "    .colab-df-container {\n",
              "      display:flex;\n",
              "      gap: 12px;\n",
              "    }\n",
              "\n",
              "    .colab-df-convert {\n",
              "      background-color: #E8F0FE;\n",
              "      border: none;\n",
              "      border-radius: 50%;\n",
              "      cursor: pointer;\n",
              "      display: none;\n",
              "      fill: #1967D2;\n",
              "      height: 32px;\n",
              "      padding: 0 0 0 0;\n",
              "      width: 32px;\n",
              "    }\n",
              "\n",
              "    .colab-df-convert:hover {\n",
              "      background-color: #E2EBFA;\n",
              "      box-shadow: 0px 1px 2px rgba(60, 64, 67, 0.3), 0px 1px 3px 1px rgba(60, 64, 67, 0.15);\n",
              "      fill: #174EA6;\n",
              "    }\n",
              "\n",
              "    .colab-df-buttons div {\n",
              "      margin-bottom: 4px;\n",
              "    }\n",
              "\n",
              "    [theme=dark] .colab-df-convert {\n",
              "      background-color: #3B4455;\n",
              "      fill: #D2E3FC;\n",
              "    }\n",
              "\n",
              "    [theme=dark] .colab-df-convert:hover {\n",
              "      background-color: #434B5C;\n",
              "      box-shadow: 0px 1px 3px 1px rgba(0, 0, 0, 0.15);\n",
              "      filter: drop-shadow(0px 1px 2px rgba(0, 0, 0, 0.3));\n",
              "      fill: #FFFFFF;\n",
              "    }\n",
              "  </style>\n",
              "\n",
              "    <script>\n",
              "      const buttonEl =\n",
              "        document.querySelector('#df-3c6594f5-03c0-4724-80a2-091ca7a99db7 button.colab-df-convert');\n",
              "      buttonEl.style.display =\n",
              "        google.colab.kernel.accessAllowed ? 'block' : 'none';\n",
              "\n",
              "      async function convertToInteractive(key) {\n",
              "        const element = document.querySelector('#df-3c6594f5-03c0-4724-80a2-091ca7a99db7');\n",
              "        const dataTable =\n",
              "          await google.colab.kernel.invokeFunction('convertToInteractive',\n",
              "                                                    [key], {});\n",
              "        if (!dataTable) return;\n",
              "\n",
              "        const docLinkHtml = 'Like what you see? Visit the ' +\n",
              "          '<a target=\"_blank\" href=https://colab.research.google.com/notebooks/data_table.ipynb>data table notebook</a>'\n",
              "          + ' to learn more about interactive tables.';\n",
              "        element.innerHTML = '';\n",
              "        dataTable['output_type'] = 'display_data';\n",
              "        await google.colab.output.renderOutput(dataTable, element);\n",
              "        const docLink = document.createElement('div');\n",
              "        docLink.innerHTML = docLinkHtml;\n",
              "        element.appendChild(docLink);\n",
              "      }\n",
              "    </script>\n",
              "  </div>\n",
              "\n",
              "\n",
              "<div id=\"df-5ac3b082-56f4-4196-ac72-c5a02d399b5e\">\n",
              "  <button class=\"colab-df-quickchart\" onclick=\"quickchart('df-5ac3b082-56f4-4196-ac72-c5a02d399b5e')\"\n",
              "            title=\"Suggest charts\"\n",
              "            style=\"display:none;\">\n",
              "\n",
              "<svg xmlns=\"http://www.w3.org/2000/svg\" height=\"24px\"viewBox=\"0 0 24 24\"\n",
              "     width=\"24px\">\n",
              "    <g>\n",
              "        <path d=\"M19 3H5c-1.1 0-2 .9-2 2v14c0 1.1.9 2 2 2h14c1.1 0 2-.9 2-2V5c0-1.1-.9-2-2-2zM9 17H7v-7h2v7zm4 0h-2V7h2v10zm4 0h-2v-4h2v4z\"/>\n",
              "    </g>\n",
              "</svg>\n",
              "  </button>\n",
              "\n",
              "<style>\n",
              "  .colab-df-quickchart {\n",
              "      --bg-color: #E8F0FE;\n",
              "      --fill-color: #1967D2;\n",
              "      --hover-bg-color: #E2EBFA;\n",
              "      --hover-fill-color: #174EA6;\n",
              "      --disabled-fill-color: #AAA;\n",
              "      --disabled-bg-color: #DDD;\n",
              "  }\n",
              "\n",
              "  [theme=dark] .colab-df-quickchart {\n",
              "      --bg-color: #3B4455;\n",
              "      --fill-color: #D2E3FC;\n",
              "      --hover-bg-color: #434B5C;\n",
              "      --hover-fill-color: #FFFFFF;\n",
              "      --disabled-bg-color: #3B4455;\n",
              "      --disabled-fill-color: #666;\n",
              "  }\n",
              "\n",
              "  .colab-df-quickchart {\n",
              "    background-color: var(--bg-color);\n",
              "    border: none;\n",
              "    border-radius: 50%;\n",
              "    cursor: pointer;\n",
              "    display: none;\n",
              "    fill: var(--fill-color);\n",
              "    height: 32px;\n",
              "    padding: 0;\n",
              "    width: 32px;\n",
              "  }\n",
              "\n",
              "  .colab-df-quickchart:hover {\n",
              "    background-color: var(--hover-bg-color);\n",
              "    box-shadow: 0 1px 2px rgba(60, 64, 67, 0.3), 0 1px 3px 1px rgba(60, 64, 67, 0.15);\n",
              "    fill: var(--button-hover-fill-color);\n",
              "  }\n",
              "\n",
              "  .colab-df-quickchart-complete:disabled,\n",
              "  .colab-df-quickchart-complete:disabled:hover {\n",
              "    background-color: var(--disabled-bg-color);\n",
              "    fill: var(--disabled-fill-color);\n",
              "    box-shadow: none;\n",
              "  }\n",
              "\n",
              "  .colab-df-spinner {\n",
              "    border: 2px solid var(--fill-color);\n",
              "    border-color: transparent;\n",
              "    border-bottom-color: var(--fill-color);\n",
              "    animation:\n",
              "      spin 1s steps(1) infinite;\n",
              "  }\n",
              "\n",
              "  @keyframes spin {\n",
              "    0% {\n",
              "      border-color: transparent;\n",
              "      border-bottom-color: var(--fill-color);\n",
              "      border-left-color: var(--fill-color);\n",
              "    }\n",
              "    20% {\n",
              "      border-color: transparent;\n",
              "      border-left-color: var(--fill-color);\n",
              "      border-top-color: var(--fill-color);\n",
              "    }\n",
              "    30% {\n",
              "      border-color: transparent;\n",
              "      border-left-color: var(--fill-color);\n",
              "      border-top-color: var(--fill-color);\n",
              "      border-right-color: var(--fill-color);\n",
              "    }\n",
              "    40% {\n",
              "      border-color: transparent;\n",
              "      border-right-color: var(--fill-color);\n",
              "      border-top-color: var(--fill-color);\n",
              "    }\n",
              "    60% {\n",
              "      border-color: transparent;\n",
              "      border-right-color: var(--fill-color);\n",
              "    }\n",
              "    80% {\n",
              "      border-color: transparent;\n",
              "      border-right-color: var(--fill-color);\n",
              "      border-bottom-color: var(--fill-color);\n",
              "    }\n",
              "    90% {\n",
              "      border-color: transparent;\n",
              "      border-bottom-color: var(--fill-color);\n",
              "    }\n",
              "  }\n",
              "</style>\n",
              "\n",
              "  <script>\n",
              "    async function quickchart(key) {\n",
              "      const quickchartButtonEl =\n",
              "        document.querySelector('#' + key + ' button');\n",
              "      quickchartButtonEl.disabled = true;  // To prevent multiple clicks.\n",
              "      quickchartButtonEl.classList.add('colab-df-spinner');\n",
              "      try {\n",
              "        const charts = await google.colab.kernel.invokeFunction(\n",
              "            'suggestCharts', [key], {});\n",
              "      } catch (error) {\n",
              "        console.error('Error during call to suggestCharts:', error);\n",
              "      }\n",
              "      quickchartButtonEl.classList.remove('colab-df-spinner');\n",
              "      quickchartButtonEl.classList.add('colab-df-quickchart-complete');\n",
              "    }\n",
              "    (() => {\n",
              "      let quickchartButtonEl =\n",
              "        document.querySelector('#df-5ac3b082-56f4-4196-ac72-c5a02d399b5e button');\n",
              "      quickchartButtonEl.style.display =\n",
              "        google.colab.kernel.accessAllowed ? 'block' : 'none';\n",
              "    })();\n",
              "  </script>\n",
              "</div>\n",
              "\n",
              "    </div>\n",
              "  </div>\n"
            ],
            "application/vnd.google.colaboratory.intrinsic+json": {
              "type": "dataframe",
              "variable_name": "df"
            }
          },
          "metadata": {},
          "execution_count": 3
        }
      ]
    },
    {
      "cell_type": "markdown",
      "source": [
        "*  STUDY: какую проблему вагонетки решал человек если реальную,\n",
        "если на бумаге\n",
        "*  AGE: возраст респондента\n",
        "*  GENDER: пол респондента\n",
        "*  DECISION: решение дилеммы (жать на кнопу / не жать)\n",
        "*  RT: время, которое респондент потратил, чтобы нажать на кнопку"
      ],
      "metadata": {
        "id": "ko4jxSr5hvWv"
      }
    },
    {
      "cell_type": "markdown",
      "source": [
        "#Доля и нажатие на кнопку"
      ],
      "metadata": {
        "id": "PrUNc5lSyOXk"
      }
    },
    {
      "cell_type": "code",
      "source": [
        "# удалим пропуски для тех, кто не решил дилемму\n",
        "df.dropna(subset=['DECISION'], inplace=True)\n",
        "\n",
        "#H0 - Набумаге и вреальности жмут на кнопку одинаково часто\n",
        "paper = df[df['STUDY'] == 2].DECISION.values\n",
        "real = df[df['STUDY'] == 1].DECISION.values"
      ],
      "metadata": {
        "id": "XfYf05Tqccu2"
      },
      "execution_count": 4,
      "outputs": []
    },
    {
      "cell_type": "code",
      "source": [
        "def asy_mean_test(mean_hat, std_hat, mu_0=0,\n",
        "                   alpha=0.05, alternative='two-sided', margin=3):\n",
        "\n",
        "    z_obs = (mean_hat - mu_0)/std_hat\n",
        "\n",
        "    if alternative == 'two-sided':\n",
        "        p_value = 2 * (1 - stats.norm().cdf(np.abs(z_obs)))\n",
        "        z_crit = stats.norm().ppf(1 - alpha/2)\n",
        "\n",
        "        statistics = ['-z_crit', 'z_crit', '-z_obs', 'z_obs']\n",
        "        params = dict(zip(statistics, [(-z_crit, -0.6, -margin, -z_crit, 'b'),\n",
        "                                       (z_crit, 0.05, z_crit, margin, 'b'),\n",
        "                                       (-z_obs, -0.6, -margin, -z_obs, 'r'),\n",
        "                                       (z_obs, 0.1, z_obs, margin, 'r')]))\n",
        "\n",
        "    if alternative == 'less':\n",
        "        p_value = stats.norm().cdf(z_obs)\n",
        "        z_crit = stats.norm().ppf(1 - alpha)\n",
        "\n",
        "        statistics = ['-z_crit', '-z_obs']\n",
        "        params = dict(zip(statistics, [(-z_crit, -0.6, -margin, -z_crit, 'b'),\n",
        "                                       (-z_obs, -0.6, -margin, -z_obs, 'r')]))\n",
        "\n",
        "    if alternative == 'larger':\n",
        "        p_value = 1 - stats.norm().cdf(z_obs)\n",
        "        z_crit = stats.norm().ppf(1 - alpha)\n",
        "\n",
        "        statistics = ['z_crit', 'z_obs']\n",
        "        params = dict(zip(statistics, [(z_crit, 0.05, z_crit, margin, 'b'),\n",
        "                                       (z_obs, 0.1, z_obs, margin, 'r')]))\n",
        "\n",
        "\n",
        "    plt.figure(figsize = (10, 5))\n",
        "    x = np.linspace(-margin, margin)\n",
        "    pdf = stats.norm().pdf(x)\n",
        "\n",
        "    plt.plot(x, pdf, color=\"green\")\n",
        "    plt.ylabel(\"$f(x)$\", fontsize=16)\n",
        "    plt.xlabel(\"$x$\", fontsize=16)\n",
        "    y_max = plt.ylim()[1]\n",
        "\n",
        "    for i in range(len(statistics)):\n",
        "        statistic, text_margin, left_bound, right_bound, color = params[statistics[i]]\n",
        "\n",
        "        plt.axvline(statistic, color=color, linestyle=\"--\", lw=2)\n",
        "        h = 0.8 if statistics[i].split('_')[-1] == 'crit' else 0.6\n",
        "        plt.text(statistic + text_margin,\n",
        "                 h*y_max, round(statistic, 2), color=color, fontsize=16)\n",
        "\n",
        "        xq = np.linspace(left_bound, right_bound)\n",
        "        yq = stats.norm().pdf(xq)\n",
        "        plt.fill_between(xq, 0, yq, color=color, alpha=0.2)\n",
        "\n",
        "    return p_value\n"
      ],
      "metadata": {
        "id": "2eWPzlthcdm-"
      },
      "execution_count": 5,
      "outputs": []
    },
    {
      "cell_type": "code",
      "source": [
        "paper.mean(), real.mean()"
      ],
      "metadata": {
        "colab": {
          "base_uri": "https://localhost:8080/"
        },
        "id": "9zq-kE3mhl7C",
        "outputId": "e4d1b3a7-a595-442b-8c9d-1c29471ebf1b"
      },
      "execution_count": 6,
      "outputs": [
        {
          "output_type": "execute_result",
          "data": {
            "text/plain": [
              "(0.7469879518072289, 0.8645833333333334)"
            ]
          },
          "metadata": {},
          "execution_count": 6
        }
      ]
    },
    {
      "cell_type": "code",
      "source": [
        "alpha = 0.05                                       # уровень значимости = 5%\n",
        "n1,n2 = paper.size, real.size                      # размеры выборок\n",
        "m1,m2 = paper.sum(), real.sum()                    # число успехов\n",
        "\n",
        "p1, p2 = real.mean(), paper.mean()                 # точеные оценки долей\n",
        "diff = p1 - p2                                     # разность долей\n",
        "\n",
        "P = (m1 + m2)/(n1 + n2)\n",
        "diff_std = np.sqrt(P*(1 - P)*(1/n1 + 1/n2))        # стандартное отклонение разности\n",
        "\n",
        "z_obs = diff/diff_std                              # наблюдаемое значение статистики\n",
        "z_crit = stats.norm.ppf(1 - alpha/2)               # критическое значение статистики\n",
        "\n",
        "print(f'{z_obs:.3} не попадает в ({-z_crit:.3} , {z_crit:.3}) => Нулевая гипотеза отвергается')\n"
      ],
      "metadata": {
        "colab": {
          "base_uri": "https://localhost:8080/"
        },
        "id": "ALa3iECfhl-J",
        "outputId": "324384b0-bb25-4ede-8ed3-477805704311"
      },
      "execution_count": 7,
      "outputs": [
        {
          "output_type": "stream",
          "name": "stdout",
          "text": [
            "2.38 не попадает в (-1.96 , 1.96) => Нулевая гипотеза отвергается\n"
          ]
        }
      ]
    },
    {
      "cell_type": "code",
      "source": [
        "asy_mean_test(diff, diff_std, mu_0=0, alpha=0.05, alternative='two-sided')"
      ],
      "metadata": {
        "colab": {
          "base_uri": "https://localhost:8080/",
          "height": 489
        },
        "id": "zdIihxaJhmA_",
        "outputId": "8015a39e-df2d-492c-e29a-6d1163164e21"
      },
      "execution_count": 8,
      "outputs": [
        {
          "output_type": "execute_result",
          "data": {
            "text/plain": [
              "0.017402155611556003"
            ]
          },
          "metadata": {},
          "execution_count": 8
        },
        {
          "output_type": "display_data",
          "data": {
            "text/plain": [
              "<Figure size 1000x500 with 1 Axes>"
            ],
            "image/png": "[encoded data removed]"
          },
          "metadata": {}
        }
      ]
    },
    {
      "cell_type": "code",
      "source": [
        "asy_mean_test(diff, diff_std, mu_0=0, alpha=0.05, alternative='less')"
      ],
      "metadata": {
        "colab": {
          "base_uri": "https://localhost:8080/",
          "height": 489
        },
        "id": "ukFhFpMChmD0",
        "outputId": "5bd5c2c2-ae73-4da0-950f-e0039c6dbbe9"
      },
      "execution_count": 9,
      "outputs": [
        {
          "output_type": "execute_result",
          "data": {
            "text/plain": [
              "0.991298922194222"
            ]
          },
          "metadata": {},
          "execution_count": 9
        },
        {
          "output_type": "display_data",
          "data": {
            "text/plain": [
              "<Figure size 1000x500 with 1 Axes>"
            ],
            "image/png": "[encoded data removed]"
          },
          "metadata": {}
        }
      ]
    },
    {
      "cell_type": "code",
      "source": [
        "from statsmodels.stats.proportion import proportions_ztest\n",
        "\n",
        "alpha = 0.05                                       # уровень значимости = 5%\n",
        "n_obs = paper.size, real.size                      # размеры выборок\n",
        "m_obs = paper.sum(), real.sum()                    # число успехов\n",
        "\n",
        "z_obs, p_val =  proportions_ztest(m_obs, n_obs, value=0,\n",
        "                                  alternative='smaller')\n",
        "\n",
        "print(f\"Наблюдаемое значение: {z_obs:.3}\")\n",
        "print(f\"P-значение: {p_val:.3}\")\n",
        "#гипотеза о том, что на кнопку жмут одинаково часто отвергается. В реальности на кнопку жмут чаще."
      ],
      "metadata": {
        "colab": {
          "base_uri": "https://localhost:8080/"
        },
        "id": "AvrSxiQchmGn",
        "outputId": "cb27befd-d7f7-486c-cce1-f94f4ff37818"
      },
      "execution_count": 10,
      "outputs": [
        {
          "output_type": "stream",
          "name": "stdout",
          "text": [
            "Наблюдаемое значение: -2.38\n",
            "P-значение: 0.0087\n"
          ]
        }
      ]
    },
    {
      "cell_type": "markdown",
      "source": [
        "#Среднеe и тормознутость в принятии решения"
      ],
      "metadata": {
        "id": "B0xgGRKuyiN8"
      }
    },
    {
      "cell_type": "code",
      "source": [
        "# Асимптотический критерий\n",
        "# H0: mu <= 5\n",
        "# Ha: mu > 5\n",
        "x = df['RT'].dropna().values         # выборка\n",
        "\n",
        "alpha = 0.05                         # уровень значимости = 5%\n",
        "n = x.size                           # размер выборки\n",
        "mu = x.mean()                        # среднее значение\n",
        "std = x.std(ddof=1)/np.sqrt(n)       # стандартное отклонение\n",
        "\n",
        "z_obs = (mu - 5)/std                 # наблюдаемое значение статистики\n",
        "z_crit = stats.norm.ppf(1 - alpha)   # критическое значение статистики\n",
        "\n",
        "print(f'Наблюдаемое значение {z_obs:.4} больше критического {z_crit:.3} => нулевая гипотеза отвергается')\n"
      ],
      "metadata": {
        "id": "ziqYl74mj9uT",
        "colab": {
          "base_uri": "https://localhost:8080/"
        },
        "outputId": "c5be0be3-6ff9-4bde-bd05-4d3705b1f0ef"
      },
      "execution_count": 14,
      "outputs": [
        {
          "output_type": "stream",
          "name": "stdout",
          "text": [
            "Наблюдаемое значение 12.97 больше критического 1.64 => нулевая гипотеза отвергается\n"
          ]
        }
      ]
    },
    {
      "cell_type": "code",
      "source": [
        "asy_mean_test(mu, std, mu_0=5, alpha=0.05,\n",
        "              margin=15, alternative='larger')\n",
        "\n"
      ],
      "metadata": {
        "colab": {
          "base_uri": "https://localhost:8080/",
          "height": 489
        },
        "id": "O0W5WABry2PX",
        "outputId": "e53685e2-2062-4b64-f1e4-9576e01d2a27"
      },
      "execution_count": 12,
      "outputs": [
        {
          "output_type": "execute_result",
          "data": {
            "text/plain": [
              "0.0"
            ]
          },
          "metadata": {},
          "execution_count": 12
        },
        {
          "output_type": "display_data",
          "data": {
            "text/plain": [
              "<Figure size 1000x500 with 1 Axes>"
            ],
            "image/png": "[encoded data removed]"
          },
          "metadata": {}
        }
      ]
    },
    {
      "cell_type": "code",
      "source": [
        "from statsmodels.stats.weightstats import ztest\n",
        "\n",
        "z_obs, p_val = ztest(x, value=5, alternative='larger')\n",
        "\n",
        "print(f\"Наблюдаемое значение: {z_obs:.7}\")\n",
        "print(f\"P-значение: {p_val:.3}\")"
      ],
      "metadata": {
        "colab": {
          "base_uri": "https://localhost:8080/"
        },
        "id": "e5rqVLnWy6_G",
        "outputId": "536b5030-99e9-49e5-87ce-f0fee841e10f"
      },
      "execution_count": 15,
      "outputs": [
        {
          "output_type": "stream",
          "name": "stdout",
          "text": [
            "Наблюдаемое значение: 12.9749\n",
            "P-значение: 8.49e-39\n"
          ]
        }
      ]
    },
    {
      "cell_type": "code",
      "source": [
        "#точный тест\n",
        "t_obs = (mu - 5)/std                     # наблюдаемое значение статистики\n",
        "t_crit = stats.t(n - 1).ppf(1 - alpha)   # критическое значение статистики\n",
        "\n",
        "print(f'Наблюдаемое значение {t_obs:.4} больше критического {t_crit:.4} => нулевая гипотеза отвергается')\n"
      ],
      "metadata": {
        "colab": {
          "base_uri": "https://localhost:8080/"
        },
        "id": "-p6CUGF5ztu5",
        "outputId": "ed24ee52-7913-40b2-e794-32a5a41e57fe"
      },
      "execution_count": 16,
      "outputs": [
        {
          "output_type": "stream",
          "name": "stdout",
          "text": [
            "Наблюдаемое значение 12.97 больше критического 1.654 => нулевая гипотеза отвергается\n"
          ]
        }
      ]
    },
    {
      "cell_type": "code",
      "source": [
        "plt.hist(x, density=True, bins=20)\n",
        "\n",
        "xs = np.linspace(0,21,100)\n",
        "pdf = stats.norm(x.mean(), x.std(ddof=1)).pdf(xs)\n",
        "plt.plot(xs, pdf, lw=2);"
      ],
      "metadata": {
        "colab": {
          "base_uri": "https://localhost:8080/",
          "height": 430
        },
        "id": "aXmqFgy90EJ8",
        "outputId": "289fc6c9-1ee7-4c1b-f784-045000f71eea"
      },
      "execution_count": 17,
      "outputs": [
        {
          "output_type": "display_data",
          "data": {
            "text/plain": [
              "<Figure size 640x480 with 1 Axes>"
            ],
            "image/png": "[encoded data removed]"
          },
          "metadata": {}
        }
      ]
    },
    {
      "cell_type": "code",
      "source": [
        "#нельзя пользоваться t-тестом так как выборка пришла не из нормального распределения\n",
        "#тест Колмогорова-Смирнова на нормальность выборки\n",
        "stats.kstest(x, 'norm', args=(df['RT'].mean(), df['RT'].std(ddof=1)))"
      ],
      "metadata": {
        "colab": {
          "base_uri": "https://localhost:8080/"
        },
        "id": "cdadGUAw0J59",
        "outputId": "a7f368e3-5ccf-486d-c035-122b5c044ce3"
      },
      "execution_count": 18,
      "outputs": [
        {
          "output_type": "execute_result",
          "data": {
            "text/plain": [
              "KstestResult(statistic=0.10581791163988818, pvalue=0.045074232278964566, statistic_location=6.683372, statistic_sign=1)"
            ]
          },
          "metadata": {},
          "execution_count": 18
        }
      ]
    },
    {
      "cell_type": "markdown",
      "source": [
        "#Сравнение тормознутости"
      ],
      "metadata": {
        "id": "2GU3PbyY0tDq"
      }
    },
    {
      "cell_type": "code",
      "source": [
        "men = df[(df['GENDER'] == 1)]['RT'].dropna().values\n",
        "women = df[(df['GENDER'] == 0)]['RT'].dropna().values\n",
        "men\n"
      ],
      "metadata": {
        "colab": {
          "base_uri": "https://localhost:8080/"
        },
        "id": "IfkPFfI20fVY",
        "outputId": "b2ee1971-9863-4410-9f02-1ffef8fb7491"
      },
      "execution_count": 19,
      "outputs": [
        {
          "output_type": "execute_result",
          "data": {
            "text/plain": [
              "array([ 9.827884, 10.14303 ,  7.447534,  3.900421,  6.257604,  8.35017 ,\n",
              "        4.851916,  4.715757,  5.502697,  2.834183, 13.204802,  6.475876,\n",
              "        8.112592, 11.550315, 15.830459, 13.966976, 16.467138,  5.847557,\n",
              "       14.130201,  3.897559, 17.687435,  5.059607,  5.841785,  4.766936,\n",
              "       10.962231,  2.934816, 18.404679,  5.461676, 13.413565,  7.79453 ,\n",
              "       17.490769,  7.060378, 16.371952,  6.683372,  3.911258,  8.673753,\n",
              "       15.396327,  4.671044,  4.104334, 12.423375,  9.657467,  8.533418,\n",
              "       11.257031,  2.746188, 12.626013,  5.015116,  6.508459,  6.378889,\n",
              "        5.775246, 20.      ,  3.16293 , 18.733759, 11.464392, 14.289954,\n",
              "        4.844785, 10.858654, 20.      ])"
            ]
          },
          "metadata": {},
          "execution_count": 19
        }
      ]
    },
    {
      "cell_type": "code",
      "source": [
        "men.mean(), women.mean()\n"
      ],
      "metadata": {
        "colab": {
          "base_uri": "https://localhost:8080/"
        },
        "id": "G2HmcOUQ04j2",
        "outputId": "1bc3d3f3-26ae-441a-aa39-42942d73b248"
      },
      "execution_count": 20,
      "outputs": [
        {
          "output_type": "execute_result",
          "data": {
            "text/plain": [
              "(9.373347263157894, 10.505521238532111)"
            ]
          },
          "metadata": {},
          "execution_count": 20
        }
      ]
    },
    {
      "cell_type": "code",
      "source": [
        "#в данных нет нормальности. Поэтому используем асимптотический тест\n",
        "#H0: скорость нажания на кнопки одинаковая\n",
        "#Ha: женщины медленнее (тратят больше времени)\n",
        "\n",
        "alpha = 0.05                                                    # уровень значимости = 5%\n",
        "nx, ny = women.size, men.size                                   # размер выборок\n",
        "\n",
        "diff = women.mean() - men.mean()                                # разность средних\n",
        "diff_std = np.sqrt(women.var(ddof=1)/nx + men.var(ddof=1)/ny)   # стандартное отклонение\n",
        "\n",
        "z_obs = diff/diff_std                                           # наблюдаемое значение\n",
        "z_crit = stats.norm.ppf(1 - alpha)                              # критическое значение\n",
        "\n",
        "print(f'Наблюдаемое значение {z_obs:.5} меньше критического {z_crit:.3} => нулевая гипотеза не отвергается')\n",
        "#Асимптотический тест для разных дисперсий в statsmodels не реализован. Есть только для равных.\n"
      ],
      "metadata": {
        "colab": {
          "base_uri": "https://localhost:8080/"
        },
        "id": "qtNKYyng07xU",
        "outputId": "c023a10d-6c6e-4611-cb4b-a564578caf05"
      },
      "execution_count": 26,
      "outputs": [
        {
          "output_type": "stream",
          "name": "stdout",
          "text": [
            "Наблюдаемое значение 1.376 меньше критического 1.64 => нулевая гипотеза не отвергается\n"
          ]
        }
      ]
    },
    {
      "cell_type": "code",
      "source": [
        "asy_mean_test(diff, diff_std, mu_0=0, alpha=0.05, alternative='larger')"
      ],
      "metadata": {
        "colab": {
          "base_uri": "https://localhost:8080/",
          "height": 489
        },
        "id": "1XXrf5Uf1yFD",
        "outputId": "ba56c0d2-00d1-4a1d-9fbf-41e961dea163"
      },
      "execution_count": 27,
      "outputs": [
        {
          "output_type": "execute_result",
          "data": {
            "text/plain": [
              "0.08441634419903932"
            ]
          },
          "metadata": {},
          "execution_count": 27
        },
        {
          "output_type": "display_data",
          "data": {
            "text/plain": [
              "<Figure size 1000x500 with 1 Axes>"
            ],
            "image/png": "[encoded data removed]"
          },
          "metadata": {}
        }
      ]
    },
    {
      "cell_type": "code",
      "source": [
        "#Приведём ниже код, который мы бы использовали, если бы с нормальностью выборки всё бы было хорошо.\n",
        "#Тест Стьюдента (неизвестные равные дисперсии)\n",
        "alpha = 0.05                                                    # уровень значимости = 5%\n",
        "nx, ny = women.size, men.size                                   # размер выборок\n",
        "diff = women.mean() - men.mean()                                # разность средних\n",
        "\n",
        "diff_var = ((nx - 1)*women.var(ddof=1) + (ny - 1)*men.var(ddof=1))/(nx + ny - 2)\n",
        "diff_std = np.sqrt(diff_var/nx + diff_var/ny)                   # стандартное отклонение\n",
        "\n",
        "t_obs = diff/diff_std                                           # наблюдаемое значение\n",
        "t_crit = stats.t(df = nx + ny - 2).ppf(1 - alpha)               # критическое значение\n",
        "\n",
        "print(f'Наблюдаемое значение {t_obs:.3} меньше критического {t_crit:.3} => нулевая гипотеза не отвергается')\n"
      ],
      "metadata": {
        "colab": {
          "base_uri": "https://localhost:8080/"
        },
        "id": "V_3BR67W2DbJ",
        "outputId": "fb80badb-e93b-4d96-b3d6-e01367e93cde"
      },
      "execution_count": 25,
      "outputs": [
        {
          "output_type": "stream",
          "name": "stdout",
          "text": [
            "Наблюдаемое значение 1.37 меньше критического 1.65 => нулевая гипотеза не отвергается\n"
          ]
        }
      ]
    },
    {
      "cell_type": "code",
      "source": [
        "#То же самое средствами statsmodels\n",
        "from statsmodels.stats.weightstats import ttest_ind\n",
        "\n",
        "t_obs, p_val, _ = ttest_ind(women, men, value=0, alternative='larger')\n",
        "\n",
        "print(f\"Наблюдаемое значение: {t_obs:.3}\")\n",
        "print(f\"P-значение: {p_val:.3}\")"
      ],
      "metadata": {
        "colab": {
          "base_uri": "https://localhost:8080/"
        },
        "id": "lYzknRnc3OS6",
        "outputId": "b4d21fef-d43c-4dd8-b30f-63e03abb6535"
      },
      "execution_count": 23,
      "outputs": [
        {
          "output_type": "stream",
          "name": "stdout",
          "text": [
            "Наблюдаемое значение: 1.37\n",
            "P-значение: 0.0868\n"
          ]
        }
      ]
    },
    {
      "cell_type": "code",
      "source": [
        "#Тест Уэлча (неизвестные разные дисперсии)\n",
        "alpha = 0.05                                                    # уровень значимости = 5%\n",
        "nx, ny = women.size, men.size                                   # размер выборок\n",
        "\n",
        "diff = women.mean() - men.mean()                                # разность средних\n",
        "diff_std = np.sqrt(women.var(ddof=1)/nx + men.var(ddof=1)/ny)   # стандартное отклонение\n",
        "\n",
        "t_obs = diff/diff_std                                           # наблюдаемое значение\n",
        "\n",
        "# число степеней свободы\n",
        "u = (women.var(ddof=1) / nx + men.var(ddof=1) / ny) ** 2\n",
        "d = (women.var(ddof=1)**2) / (nx**2 * (nx - 1)) + (men.var(ddof=1)**2) / (ny**2 * (ny - 1))\n",
        "nu =  u/d\n",
        "\n",
        "t_crit = stats.t(nu).ppf(1 - alpha)                             # критическое значение\n",
        "\n",
        "print(f'Наблюдаемое значение {t_obs:.3} меньше критического {t_crit:.3} => нулевая гипотеза не отвергается')\n"
      ],
      "metadata": {
        "colab": {
          "base_uri": "https://localhost:8080/"
        },
        "id": "JqRQ_vbC3S7l",
        "outputId": "9453bb69-b168-4090-ca0c-d8ebc82c7617"
      },
      "execution_count": 28,
      "outputs": [
        {
          "output_type": "stream",
          "name": "stdout",
          "text": [
            "Наблюдаемое значение 1.38 меньше критического 1.66 => нулевая гипотеза не отвергается\n"
          ]
        }
      ]
    },
    {
      "cell_type": "code",
      "source": [
        "women.std(ddof=1), men.std(ddof=1)"
      ],
      "metadata": {
        "colab": {
          "base_uri": "https://localhost:8080/"
        },
        "id": "-CHF7sun4wNX",
        "outputId": "2f05077c-4ea0-4624-a797-8743a3cce518"
      },
      "execution_count": 29,
      "outputs": [
        {
          "output_type": "execute_result",
          "data": {
            "text/plain": [
              "(5.103972224167936, 4.996830829492463)"
            ]
          },
          "metadata": {},
          "execution_count": 29
        }
      ]
    },
    {
      "cell_type": "code",
      "source": [
        "nx, ny # направление знака между наблюдениями соотвествует знаку между дисперсиями\n",
        "# если бы выборки были бы нормальнымы можно было бы применять"
      ],
      "metadata": {
        "colab": {
          "base_uri": "https://localhost:8080/"
        },
        "id": "aRZn_uBa5aeo",
        "outputId": "3f6f6695-4a8a-45c6-876a-ee4d646c57f7"
      },
      "execution_count": 30,
      "outputs": [
        {
          "output_type": "execute_result",
          "data": {
            "text/plain": [
              "(109, 57)"
            ]
          },
          "metadata": {},
          "execution_count": 30
        }
      ]
    },
    {
      "cell_type": "code",
      "source": [
        "#То же самое средствами statsmodels\n",
        "from statsmodels.stats.weightstats import ttest_ind\n",
        "\n",
        "# usevar по умолчанию думает, что дисперсии одинаковые\n",
        "t_obs, p_val, _ = ttest_ind(women, men, value=0,\n",
        "                            alternative='larger', usevar='unequal')\n",
        "\n",
        "print(f\"Наблюдаемое значение: {t_obs:.3}\")\n",
        "print(f\"P-значение: {p_val:.3}\")"
      ],
      "metadata": {
        "colab": {
          "base_uri": "https://localhost:8080/"
        },
        "id": "rZWqc6xR5ji4",
        "outputId": "8cb144be-1526-4eae-a478-3eadd5bcc796"
      },
      "execution_count": 33,
      "outputs": [
        {
          "output_type": "stream",
          "name": "stdout",
          "text": [
            "Наблюдаемое значение: 1.38\n",
            "P-значение: 0.0857\n"
          ]
        }
      ]
    },
    {
      "cell_type": "code",
      "source": [
        "#Эмпатия, сравнение дисперсий"
      ],
      "metadata": {
        "id": "0a1Uh0RQ6dZ5"
      },
      "execution_count": null,
      "outputs": []
    },
    {
      "cell_type": "markdown",
      "source": [
        "\n",
        "\n",
        "Перед экспериментом каждый участник проходил психологический тест. Для каждого человека рассчитывалось довольно большое число параметров, описывающих его психотип. Например, в колонках EC находится оценка способности человека к эмпатии (Empathic concern), в колонке AE находится оценка эмпатии человека к животным.\n",
        "\n"
      ],
      "metadata": {
        "id": "pTpuOjTN6aku"
      }
    },
    {
      "cell_type": "code",
      "source": [
        "#масштабируем к шкале [0,1]\n",
        "df['EC'] = (df['EC'] - df['EC'].min())/(df['EC'].max() - df['EC'].min())\n",
        "df['AE'] = (df['AE'] - df['AE'].min())/(df['AE'].max() - df['AE'].min())\n",
        "\n",
        "df[['EC', 'AE']].hist(bins=15, figsize=(15,4));\n",
        "\n"
      ],
      "metadata": {
        "colab": {
          "base_uri": "https://localhost:8080/",
          "height": 384
        },
        "id": "pU6_Pg_M6Dgp",
        "outputId": "6c9e1b25-fa38-4342-b76e-d357b2fcb2c1"
      },
      "execution_count": 34,
      "outputs": [
        {
          "output_type": "display_data",
          "data": {
            "text/plain": [
              "<Figure size 1500x400 with 2 Axes>"
            ],
            "image/png": "[encoded data removed]"
          },
          "metadata": {}
        }
      ]
    },
    {
      "cell_type": "code",
      "source": [
        "#Правда ли, что неоднородность людей в плане их эмпатии к животным намного выше неоднородности в плане обычной эмпатии?\n",
        "#H0: дисперсии равны\n",
        "#Ha: дисперсия для животных выше\n",
        "\n",
        "ec = df['EC'].dropna().values\n",
        "ae = df['AE'].dropna().values\n",
        "\n",
        "ec.mean(), ae.mean()\n"
      ],
      "metadata": {
        "colab": {
          "base_uri": "https://localhost:8080/"
        },
        "id": "jhXtv1nP6lko",
        "outputId": "b4a728c3-1b05-4d58-851f-c777e0c8f2fc"
      },
      "execution_count": 35,
      "outputs": [
        {
          "output_type": "execute_result",
          "data": {
            "text/plain": [
              "(0.6190814394131477, 0.5798980496933709)"
            ]
          },
          "metadata": {},
          "execution_count": 35
        }
      ]
    },
    {
      "cell_type": "code",
      "source": [
        "ec.var(), ae.var()"
      ],
      "metadata": {
        "colab": {
          "base_uri": "https://localhost:8080/"
        },
        "id": "c8iOEiX772rU",
        "outputId": "1695ca4d-d25e-40f4-be5b-4036c73c5350"
      },
      "execution_count": 36,
      "outputs": [
        {
          "output_type": "execute_result",
          "data": {
            "text/plain": [
              "(0.04247637731538298, 0.032046916944347074)"
            ]
          },
          "metadata": {},
          "execution_count": 36
        }
      ]
    },
    {
      "cell_type": "code",
      "source": [
        "alpha = 0.05                             # уровень значимости = 5%\n",
        "nx, ny = ec.size, ae.size                # размер выборок\n",
        "\n",
        "F_obs = ec.var()/ae.var()                # наблюдаемое значение\n",
        "\n",
        "f_rv = stats.f(nx - 1, ny - 1)\n",
        "F_crit = f_rv.ppf(1 - alpha/2)           # критическое значение\n",
        "\n",
        "print(f'Наблюдаемое значение {F_obs:.5} меньше критического {F_crit:.5} => нулевая гипотеза не отвергается')\n"
      ],
      "metadata": {
        "colab": {
          "base_uri": "https://localhost:8080/"
        },
        "id": "85AnUb4I8CaD",
        "outputId": "7892c3d8-e425-4575-ae92-7649d3810e29"
      },
      "execution_count": 37,
      "outputs": [
        {
          "output_type": "stream",
          "name": "stdout",
          "text": [
            "Наблюдаемое значение 1.3254 меньше критического 1.3291 => нулевая гипотеза не отвергается\n"
          ]
        }
      ]
    },
    {
      "cell_type": "code",
      "source": [],
      "metadata": {
        "id": "J9qMCTpW8E8U"
      },
      "execution_count": 37,
      "outputs": []
    }
  ]
}