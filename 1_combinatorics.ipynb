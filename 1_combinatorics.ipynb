{
  "nbformat": 4,
  "nbformat_minor": 0,
  "metadata": {
    "colab": {
      "provenance": [],
      "toc_visible": true,
      "authorship_tag": "ABX9TyOnrq2vuOC6LCH0fhZLWTnY",
      "include_colab_link": true
    },
    "kernelspec": {
      "name": "python3",
      "display_name": "Python 3"
    },
    "language_info": {
      "name": "python"
    }
  },
  "cells": [
    {
      "cell_type": "markdown",
      "metadata": {
        "id": "view-in-github",
        "colab_type": "text"
      },
      "source": [
        "<a href=\"https://colab.research.google.com/github/ekomissarov/data-analysis/blob/main/1_combinatorics.ipynb\" target=\"_parent\"><img src=\"https://colab.research.google.com/assets/colab-badge.svg\" alt=\"Open In Colab\"/></a>"
      ]
    },
    {
      "cell_type": "markdown",
      "source": [
        "#Multiplication Rule"
      ],
      "metadata": {
        "id": "BX6uzAiiNm3_"
      }
    },
    {
      "cell_type": "markdown",
      "source": [
        "Every card in a standard deck of cards has two identifying characteristics: a suit (clubs, diamonds, hearts, or spades; these are indicated by these symbols, respectively:  ♣\n",
        " ,  ♢\n",
        " ,  ♡\n",
        " ,  ♠\n",
        " ) and a rank (ace, 2, 3, 4, 5, 6, 7, 8, 9, 10, jack, queen, and king; the letters A, J, Q, and K are used to represent the words). Each possible pair of suit and rank appears exactly once in the deck. How many cards are in the standard deck?"
      ],
      "metadata": {
        "id": "zh8iZ0DBNxsf"
      }
    },
    {
      "cell_type": "code",
      "execution_count": 6,
      "metadata": {
        "colab": {
          "base_uri": "https://localhost:8080/"
        },
        "id": "ByRbbzsYL6Do",
        "outputId": "fe193041-1e2c-4aa8-a90a-de801c180511"
      },
      "outputs": [
        {
          "output_type": "stream",
          "name": "stdout",
          "text": [
            "cards are in the standard deck: 52\n"
          ]
        }
      ],
      "source": [
        "print(f\"cards are in the standard deck: {4*13}\")"
      ]
    },
    {
      "cell_type": "markdown",
      "source": [
        "The University Combinatorics Club has 31 members: 8 seniors, 7 juniors, 5 sophomores, and 11 first-years. How many possible 4-person committees can be formed by selecting 1 member from each class?"
      ],
      "metadata": {
        "id": "M9sC0mlRYOgZ"
      }
    },
    {
      "cell_type": "code",
      "source": [
        "print(f\"{8*7*5*11} possible 4-person committees can be formed\")"
      ],
      "metadata": {
        "colab": {
          "base_uri": "https://localhost:8080/"
        },
        "id": "foH0kxnLYNia",
        "outputId": "e50cf393-51ab-4bf6-f240-04a097becd5d"
      },
      "execution_count": 7,
      "outputs": [
        {
          "output_type": "stream",
          "name": "stdout",
          "text": [
            "3080 possible 4-person committees can be formed\n"
          ]
        }
      ]
    },
    {
      "cell_type": "markdown",
      "source": [
        "#Permutations"
      ],
      "metadata": {
        "id": "QPGBZ7BpYfBD"
      }
    },
    {
      "cell_type": "markdown",
      "source": [
        "We can use permutations to calculate the number of different orders of finish in an Olympic swimming heat.\n",
        "\n",
        "The final heat of Olympic swimming events features 8 swimmers (or teams of swimmers).\n",
        "\n",
        "How many different podium placements (first place, second place, and third place) are possible?\n",
        "How many different complete orders of finish (first place through eighth place) are possible?"
      ],
      "metadata": {
        "id": "F9DZdVPLaCB9"
      }
    },
    {
      "cell_type": "code",
      "source": [
        "from math import factorial\n",
        "n = 8\n",
        "res = factorial(n)\n",
        "print(f\"{8*7*6} different podium placements\")\n",
        "print(f'total {res} different orders')"
      ],
      "metadata": {
        "colab": {
          "base_uri": "https://localhost:8080/"
        },
        "id": "UAzd74mFaH5W",
        "outputId": "bc22ec74-4f84-4b6f-83fd-bedeef8c1749"
      },
      "execution_count": 8,
      "outputs": [
        {
          "output_type": "stream",
          "name": "stdout",
          "text": [
            "336 different podium placements\n",
            "total 40320 different orders\n"
          ]
        }
      ]
    },
    {
      "cell_type": "markdown",
      "source": [
        "You have a hand of 5 cards (that happen to create what’s called a royal flush in the game of poker): 10 ♠\n",
        " , J ♠\n",
        " , Q ♠\n",
        " , K ♠\n",
        " , and A ♠\n",
        " . Into how many different orders can you put those cards?"
      ],
      "metadata": {
        "id": "XPqvweVXY_H0"
      }
    },
    {
      "cell_type": "code",
      "source": [
        "n = 5\n",
        "res = factorial(n)\n",
        "print(f'{res} different orders')"
      ],
      "metadata": {
        "colab": {
          "base_uri": "https://localhost:8080/"
        },
        "id": "fzk4rOJgY-VY",
        "outputId": "0ef5435f-e3b6-42d6-c413-81fb669a534a"
      },
      "execution_count": 9,
      "outputs": [
        {
          "output_type": "stream",
          "name": "stdout",
          "text": [
            "120 different orders\n"
          ]
        }
      ]
    },
    {
      "cell_type": "markdown",
      "source": [
        "#Number of permutations of n things taken r at a time\n"
      ],
      "metadata": {
        "id": "cEnha_FAalB4"
      }
    },
    {
      "cell_type": "markdown",
      "source": [
        "The number of ways to choose 3 letters from group of 5 (A, B, C, D, E) order important is the number of permutations"
      ],
      "metadata": {
        "id": "fcMQUOVZb5Fx"
      }
    },
    {
      "cell_type": "code",
      "source": [
        "from scipy.special import perm\n",
        "letters_to_take = 3\n",
        "letters_total = 5\n",
        "\n",
        "#res = factorial(letters_total) / factorial(letters_total - letters_to_take)\n",
        "res = perm(letters_total, letters_to_take)\n",
        "print(res)"
      ],
      "metadata": {
        "id": "JkbaNBAwOA8m",
        "colab": {
          "base_uri": "https://localhost:8080/"
        },
        "outputId": "1c9c6ddc-269c-405f-93a3-5c6e8731f1b6"
      },
      "execution_count": 22,
      "outputs": [
        {
          "output_type": "stream",
          "name": "stdout",
          "text": [
            "60.0\n"
          ]
        }
      ]
    },
    {
      "cell_type": "markdown",
      "source": [
        "#Number of combinations of n things taken r at a time"
      ],
      "metadata": {
        "id": "hEWqgiiscPXk"
      }
    },
    {
      "cell_type": "markdown",
      "source": [
        "The number of ways to choose 3 letters from group of 5 (A, B, C, D, E) paying no attention to order is the number of combinations"
      ],
      "metadata": {
        "id": "QRBo500xccQO"
      }
    },
    {
      "cell_type": "code",
      "source": [
        "from scipy.special import comb\n",
        "letters_to_take = 3\n",
        "letters_total = 5\n",
        "\n",
        "#res = factorial(letters_total) / (factorial(letters_to_take)*factorial(letters_total - letters_to_take))\n",
        "res = comb(letters_total, letters_to_take)\n",
        "print(res)"
      ],
      "metadata": {
        "id": "hgxy2uYjP-IR",
        "colab": {
          "base_uri": "https://localhost:8080/"
        },
        "outputId": "83f7a9e5-d1d3-4ba5-e086-d197c1927171"
      },
      "execution_count": 29,
      "outputs": [
        {
          "output_type": "stream",
          "name": "stdout",
          "text": [
            "10.0\n"
          ]
        }
      ]
    },
    {
      "cell_type": "markdown",
      "source": [
        "#Permutation with Repetition"
      ],
      "metadata": {
        "id": "948RScEYhDma"
      }
    },
    {
      "cell_type": "markdown",
      "source": [
        "From the set of first 10 natural numbers, you are asked to make a four-digit number. How many different permutations are possible?"
      ],
      "metadata": {
        "id": "HCeFp-A1jMiF"
      }
    },
    {
      "cell_type": "code",
      "source": [
        "letters_to_take = 4\n",
        "letters_total = 10\n",
        "\n",
        "res = letters_total**letters_to_take\n",
        "print(res)"
      ],
      "metadata": {
        "id": "bHDBBZkleGjl",
        "colab": {
          "base_uri": "https://localhost:8080/"
        },
        "outputId": "9e6dd22d-26d6-49a6-cc01-e6a087513c1c"
      },
      "execution_count": 30,
      "outputs": [
        {
          "output_type": "stream",
          "name": "stdout",
          "text": [
            "10000\n"
          ]
        }
      ]
    },
    {
      "cell_type": "markdown",
      "source": [
        "In how many ways can the alphabets of the word EXCELLENT  be arranged?"
      ],
      "metadata": {
        "id": "e2PWqzHVj_cN"
      }
    },
    {
      "cell_type": "code",
      "source": [
        "n = 9\n",
        "e_letters = 3\n",
        "l_letters = 2\n",
        "res = factorial(n)/(factorial(e_letters)*factorial(l_letters)) #factorial(r)*...\n",
        "print(res)"
      ],
      "metadata": {
        "colab": {
          "base_uri": "https://localhost:8080/"
        },
        "id": "QU48l_0gjWl7",
        "outputId": "6d587683-344d-4e1a-c2d2-60ca1d11e622"
      },
      "execution_count": 31,
      "outputs": [
        {
          "output_type": "stream",
          "name": "stdout",
          "text": [
            "30240.0\n"
          ]
        }
      ]
    },
    {
      "cell_type": "markdown",
      "source": [
        "#Combinations with Repetition"
      ],
      "metadata": {
        "id": "sA6QrlDSk92-"
      }
    },
    {
      "cell_type": "markdown",
      "source": [
        "There are eight different ice-cream flavors in the ice-cream shop. In how many ways can we choose five flavors out of these eight flavors?"
      ],
      "metadata": {
        "id": "A79bkZKJlzrB"
      }
    },
    {
      "cell_type": "code",
      "source": [
        "n = 8\n",
        "r = 5\n",
        "#res = factorial(n+r-1)/(factorial(n-1)*factorial(r))\n",
        "res = comb(n, r, repetition=True)\n",
        "print(res)"
      ],
      "metadata": {
        "colab": {
          "base_uri": "https://localhost:8080/"
        },
        "id": "RRwfB0TukTxt",
        "outputId": "8d191baa-45a3-44c2-daf6-db74b7541778"
      },
      "execution_count": 32,
      "outputs": [
        {
          "output_type": "stream",
          "name": "stdout",
          "text": [
            "792.0\n"
          ]
        }
      ]
    },
    {
      "cell_type": "code",
      "source": [],
      "metadata": {
        "id": "9YaHRlOjnPw3"
      },
      "execution_count": null,
      "outputs": []
    }
  ]
}