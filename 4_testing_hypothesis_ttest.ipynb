{
  "nbformat": 4,
  "nbformat_minor": 0,
  "metadata": {
    "colab": {
      "provenance": [],
      "authorship_tag": "ABX9TyO4XD57nuO6nXbvoYK+yWHt",
      "include_colab_link": true
    },
    "kernelspec": {
      "name": "python3",
      "display_name": "Python 3"
    },
    "language_info": {
      "name": "python"
    }
  },
  "cells": [
    {
      "cell_type": "markdown",
      "metadata": {
        "id": "view-in-github",
        "colab_type": "text"
      },
      "source": [
        "<a href=\"https://colab.research.google.com/github/ekomissarov/data-analysis/blob/main/4_testing_hypothesis_ttest.ipynb\" target=\"_parent\"><img src=\"https://colab.research.google.com/assets/colab-badge.svg\" alt=\"Open In Colab\"/></a>"
      ]
    },
    {
      "cell_type": "code",
      "execution_count": 10,
      "metadata": {
        "colab": {
          "base_uri": "https://localhost:8080/"
        },
        "id": "qTb4ccUsKGLy",
        "outputId": "6148863d-bc01-4cda-9cfd-56303e81fef4"
      },
      "outputs": [
        {
          "output_type": "stream",
          "name": "stdout",
          "text": [
            "p-value: 0.2770287052418216\n",
            "results: TtestResult(statistic=-1.0900058182514591, pvalue=0.2770287052418216, df=199)\n",
            "Failed to reject the null hypothesis\n"
          ]
        }
      ],
      "source": [
        "from scipy import stats as st\n",
        "import numpy as np\n",
        "import pandas as pd\n",
        "\n",
        "time_at_site = pd.Series([  # sample\n",
        " 116, 115, 118, 121, 125, 120, 118, 120, 122, 118, 124, 123, 117, 125, 123, 122,\n",
        " 118, 121, 115, 119, 117, 117, 118, 115, 122, 125, 118, 122, 123, 125, 116, 123,\n",
        " 122, 117, 117, 122, 115, 124, 119, 116, 121, 117, 121, 120, 122, 120, 119, 120,\n",
        " 118, 122, 116, 122, 119, 119, 118, 116, 121, 117, 124, 120, 122, 117, 120, 123,\n",
        " 119, 122, 115, 122, 120, 119, 115, 116, 119, 120, 124, 121, 116, 119, 122, 118,\n",
        " 115, 117, 115, 121, 115, 123, 115, 121, 121, 125, 125, 123, 120, 125, 125, 119,\n",
        " 121, 117, 121, 123, 118, 115, 117, 117, 116, 118, 119, 121, 118, 121, 118, 121,\n",
        " 120, 118, 125, 120, 122, 123, 118, 118, 122, 122, 120, 119, 115, 123, 116, 125,\n",
        " 119, 123, 117, 125, 119, 123, 118, 118, 124, 119, 117, 124, 119, 118, 115, 125,\n",
        " 116, 120, 116, 123, 120, 117, 115, 117, 117, 124, 120, 116, 122, 125, 122, 123,\n",
        " 117, 118, 120, 115, 125, 124, 117, 115, 115, 117, 123, 116, 119, 116, 121, 125,\n",
        " 122, 120, 123, 116, 125, 120, 118, 124, 119, 123, 118, 116, 124, 119, 125, 120,\n",
        " 119, 119, 118, 124, 122, 122, 115, 117\n",
        "])\n",
        "\n",
        "interested_value = 120 # time on site\n",
        "\n",
        "alpha = 0.05  # statistical significance level\n",
        "\n",
        "results = st.ttest_1samp(\n",
        "    time_at_site,\n",
        "    interested_value,\n",
        "    alternative='two-sided')  # 'less', 'greater'\n",
        "\n",
        "print('p-value:', results.pvalue)\n",
        "print('results:', results)\n",
        "\n",
        "if results.pvalue < alpha:\n",
        "    print('Rejecting the null hypothesis')\n",
        "else:\n",
        "    print('Failed to reject the null hypothesis')\n"
      ]
    },
    {
      "cell_type": "code",
      "source": [
        "from scipy import stats as st\n",
        "import pandas as pd\n",
        "\n",
        "screens = pd.Series([\n",
        "    4, 2, 4, 5, 5, 4, 2, 3, 3, 5, 2, 5, 2, 2, 2, 3, 3, 4, 8, 3, 4, 3, 5, 5,\n",
        "    4, 2, 5, 2, 3, 7, 5, 5, 6,  5, 3, 4, 3, 6, 3, 4, 4, 3, 5, 4, 4, 8, 4, 7,\n",
        "    4, 5, 5, 3, 4, 6, 7, 2, 3, 6, 5, 6, 4, 4, 3, 4, 6, 4, 4, 6, 2, 6, 5, 3,\n",
        "    3, 3, 4, 5, 3, 5, 5, 4, 3, 3, 3, 1, 5, 4, 3, 4, 6, 3, 1, 3, 2, 7, 3, 6,\n",
        "    6, 6, 5, 5\n",
        "])\n",
        "\n",
        "prev_screens_value = 4.867\n",
        "\n",
        "alpha = 0.05  # statistical significance level\n",
        "\n",
        "results = st.ttest_1samp(\n",
        "    screens,\n",
        "    prev_screens_value,\n",
        "    alternative='less')\n",
        "\n",
        "print('p-value:', results.pvalue)\n",
        "\n",
        "if results.pvalue < alpha:\n",
        "    print('Rejecting the null hypothesis')\n",
        "else:\n",
        "    print('Failed to reject the null hypothesis')"
      ],
      "metadata": {
        "colab": {
          "base_uri": "https://localhost:8080/"
        },
        "id": "OTMJ0BXragkm",
        "outputId": "0cd99dbe-d97a-4e64-9cae-10b284b9d4f3"
      },
      "execution_count": 11,
      "outputs": [
        {
          "output_type": "stream",
          "name": "stdout",
          "text": [
            "p-value: 1.3358596895543794e-06\n",
            "Rejecting the null hypothesis\n"
          ]
        }
      ]
    },
    {
      "cell_type": "code",
      "source": [
        "#method for testing the hypothesis about the equality of the average of two general populations based on samples taken from them\n",
        "from scipy import stats as st\n",
        "\n",
        "sample_1 = [3071, 3636, 3454, 3151, 2185, 3259, 1727, 2263, 2015,\n",
        "            2582, 4815, 633, 3186, 887, 2028, 3589, 2564, 1422, 1785,\n",
        "            3180, 1770, 2716, 2546, 1848, 4644, 3134, 475, 2686,\n",
        "            1838, 3352]\n",
        "sample_2 = [1211, 1228, 2157, 3699, 600, 1898, 1688, 1420, 5048, 3007,\n",
        "            509, 3777, 5583, 3949, 121, 1674, 4300, 1338, 3066,\n",
        "            3562, 1010, 2311, 462, 863, 2021, 528, 1849, 255,\n",
        "            1740, 2596]\n",
        "\n",
        "alpha = 0.05  # statistical significance level\n",
        "\n",
        "\n",
        "results = st.ttest_ind(sample_1, sample_2)  # equal_var = True (default)\n",
        "                                            #\n",
        "\n",
        "print('p-value:', results.pvalue)\n",
        "\n",
        "if results.pvalue < alpha:\n",
        "    print('Rejecting the null hypothesis')\n",
        "else:\n",
        "    print('Failed to reject the null hypothesis')"
      ],
      "metadata": {
        "colab": {
          "base_uri": "https://localhost:8080/"
        },
        "id": "TIPBe0oji86C",
        "outputId": "d3ea1469-0657-45c1-faf0-c51d0c65f188"
      },
      "execution_count": 13,
      "outputs": [
        {
          "output_type": "stream",
          "name": "stdout",
          "text": [
            "p-value: 0.1912450522572209\n",
            "Failed to reject the null hypothesis\n"
          ]
        }
      ]
    },
    {
      "cell_type": "code",
      "source": [
        "import pandas as pd\n",
        "import scipy.stats as st\n",
        "\n",
        "alpha = 0.05\n",
        "\n",
        "first_group_total = pd.Series([1030.04,  979.13, 1055.95, 1010.72, 1026.73, 1050.37, 1016.69,\n",
        "        988.54, 1035.16, 1023.99, 1019.9 , 1004.54, 1039.57, 1083.2 ,\n",
        "       1015.08, 1053.87, 1015.  , 1010.2 , 1058.26,  984.14,  996.72,\n",
        "        998.69, 1023.89, 1000.57, 1002.99, 1056.2 , 1064.17, 1017.63,\n",
        "       1044.  , 1026.85])\n",
        "\n",
        "second_group_total = pd.Series([ 976.47, 1020.  , 1004.24, 1022.44, 1026.49,  954.82, 1044.95,\n",
        "        985.61,  979.16,  990.87, 1020.94, 1000.64,  988.56, 1010.57,\n",
        "        999.  , 1007.65,  990.61, 1033.15, 1037.47,  994.76,  987.89,\n",
        "        996.38,  975.61, 1026.65, 1017.6 , 1005.86,  970.54,  991.88,\n",
        "       1005.44, 1014.79])\n",
        "\n",
        "\n",
        "results = st.ttest_ind(first_group_total, second_group_total, alternative='greater')\n",
        "\n",
        "print(f'p-value: {results.pvalue}')\n",
        "\n",
        "if results.pvalue < alpha:\n",
        "    print('Rejecting the null hypothesis')\n",
        "else:\n",
        "    print('Failed to reject the null hypothesis')"
      ],
      "metadata": {
        "colab": {
          "base_uri": "https://localhost:8080/"
        },
        "id": "ow8T2dQ7vFit",
        "outputId": "3bcfada9-c248-4fdb-f69d-503c0fccbfaa"
      },
      "execution_count": 1,
      "outputs": [
        {
          "output_type": "stream",
          "name": "stdout",
          "text": [
            "p-value: 0.0003550397639439689\n",
            "Rejecting the null hypothesis\n"
          ]
        }
      ]
    },
    {
      "cell_type": "code",
      "source": [
        "# Calculate the t-test on TWO RELATED samples of scores, a and b.\n",
        "from scipy import stats as st\n",
        "\n",
        "before = [157, 114, 152, 355, 155, 513, 299, 268, 164, 320,\n",
        "          192, 262, 506, 240, 364, 179, 246, 427, 187, 431,\n",
        "          320, 193, 313, 347, 312, 92, 177, 225, 242, 312]\n",
        "\n",
        "after = [282, 220, 162, 226, 296, 479, 248, 322, 298, 418,\n",
        "         552, 246, 251, 404, 368, 484, 358, 264, 359, 410,\n",
        "         382, 350, 406, 416, 438, 364, 283, 314, 420, 218]\n",
        "\n",
        "alpha = 0.05\n",
        "\n",
        "results = st.ttest_rel(before, after)\n",
        "\n",
        "print(f'p-value: {results.pvalue}')\n",
        "\n",
        "if results.pvalue < alpha:\n",
        "    print('Rejecting the null hypothesis')\n",
        "else:\n",
        "    print('Failed to reject the null hypothesis')"
      ],
      "metadata": {
        "colab": {
          "base_uri": "https://localhost:8080/"
        },
        "id": "-NxeOZPE_GfN",
        "outputId": "5b91fdfe-c11a-47be-e4e4-b7eed12e9f05"
      },
      "execution_count": 3,
      "outputs": [
        {
          "output_type": "stream",
          "name": "stdout",
          "text": [
            "p-value: 0.005825972457958989\n",
            "Rejecting the null hypothesis\n"
          ]
        }
      ]
    },
    {
      "cell_type": "code",
      "source": [],
      "metadata": {
        "id": "5h7M6jm1EInk"
      },
      "execution_count": null,
      "outputs": []
    }
  ]
}